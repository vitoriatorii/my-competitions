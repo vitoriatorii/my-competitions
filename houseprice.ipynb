{
 "cells": [
  {
   "cell_type": "code",
   "execution_count": 1,
   "id": "b9bfde88",
   "metadata": {
    "execution": {
     "iopub.execute_input": "2022-09-30T13:12:51.347699Z",
     "iopub.status.busy": "2022-09-30T13:12:51.346969Z",
     "iopub.status.idle": "2022-09-30T13:12:52.689535Z",
     "shell.execute_reply": "2022-09-30T13:12:52.688341Z"
    },
    "papermill": {
     "duration": 1.370773,
     "end_time": "2022-09-30T13:12:52.693018",
     "exception": false,
     "start_time": "2022-09-30T13:12:51.322245",
     "status": "completed"
    },
    "tags": []
   },
   "outputs": [
    {
     "data": {
      "text/html": [
       "<div>\n",
       "<style scoped>\n",
       "    .dataframe tbody tr th:only-of-type {\n",
       "        vertical-align: middle;\n",
       "    }\n",
       "\n",
       "    .dataframe tbody tr th {\n",
       "        vertical-align: top;\n",
       "    }\n",
       "\n",
       "    .dataframe thead th {\n",
       "        text-align: right;\n",
       "    }\n",
       "</style>\n",
       "<table border=\"1\" class=\"dataframe\">\n",
       "  <thead>\n",
       "    <tr style=\"text-align: right;\">\n",
       "      <th></th>\n",
       "      <th>Id</th>\n",
       "      <th>MSSubClass</th>\n",
       "      <th>MSZoning</th>\n",
       "      <th>LotFrontage</th>\n",
       "      <th>LotArea</th>\n",
       "      <th>Street</th>\n",
       "      <th>Alley</th>\n",
       "      <th>LotShape</th>\n",
       "      <th>LandContour</th>\n",
       "      <th>Utilities</th>\n",
       "      <th>...</th>\n",
       "      <th>PoolArea</th>\n",
       "      <th>PoolQC</th>\n",
       "      <th>Fence</th>\n",
       "      <th>MiscFeature</th>\n",
       "      <th>MiscVal</th>\n",
       "      <th>MoSold</th>\n",
       "      <th>YrSold</th>\n",
       "      <th>SaleType</th>\n",
       "      <th>SaleCondition</th>\n",
       "      <th>SalePrice</th>\n",
       "    </tr>\n",
       "  </thead>\n",
       "  <tbody>\n",
       "    <tr>\n",
       "      <th>0</th>\n",
       "      <td>1</td>\n",
       "      <td>60</td>\n",
       "      <td>RL</td>\n",
       "      <td>65.0</td>\n",
       "      <td>8450</td>\n",
       "      <td>Pave</td>\n",
       "      <td>NaN</td>\n",
       "      <td>Reg</td>\n",
       "      <td>Lvl</td>\n",
       "      <td>AllPub</td>\n",
       "      <td>...</td>\n",
       "      <td>0</td>\n",
       "      <td>NaN</td>\n",
       "      <td>NaN</td>\n",
       "      <td>NaN</td>\n",
       "      <td>0</td>\n",
       "      <td>2</td>\n",
       "      <td>2008</td>\n",
       "      <td>WD</td>\n",
       "      <td>Normal</td>\n",
       "      <td>208500</td>\n",
       "    </tr>\n",
       "    <tr>\n",
       "      <th>1</th>\n",
       "      <td>2</td>\n",
       "      <td>20</td>\n",
       "      <td>RL</td>\n",
       "      <td>80.0</td>\n",
       "      <td>9600</td>\n",
       "      <td>Pave</td>\n",
       "      <td>NaN</td>\n",
       "      <td>Reg</td>\n",
       "      <td>Lvl</td>\n",
       "      <td>AllPub</td>\n",
       "      <td>...</td>\n",
       "      <td>0</td>\n",
       "      <td>NaN</td>\n",
       "      <td>NaN</td>\n",
       "      <td>NaN</td>\n",
       "      <td>0</td>\n",
       "      <td>5</td>\n",
       "      <td>2007</td>\n",
       "      <td>WD</td>\n",
       "      <td>Normal</td>\n",
       "      <td>181500</td>\n",
       "    </tr>\n",
       "    <tr>\n",
       "      <th>2</th>\n",
       "      <td>3</td>\n",
       "      <td>60</td>\n",
       "      <td>RL</td>\n",
       "      <td>68.0</td>\n",
       "      <td>11250</td>\n",
       "      <td>Pave</td>\n",
       "      <td>NaN</td>\n",
       "      <td>IR1</td>\n",
       "      <td>Lvl</td>\n",
       "      <td>AllPub</td>\n",
       "      <td>...</td>\n",
       "      <td>0</td>\n",
       "      <td>NaN</td>\n",
       "      <td>NaN</td>\n",
       "      <td>NaN</td>\n",
       "      <td>0</td>\n",
       "      <td>9</td>\n",
       "      <td>2008</td>\n",
       "      <td>WD</td>\n",
       "      <td>Normal</td>\n",
       "      <td>223500</td>\n",
       "    </tr>\n",
       "    <tr>\n",
       "      <th>3</th>\n",
       "      <td>4</td>\n",
       "      <td>70</td>\n",
       "      <td>RL</td>\n",
       "      <td>60.0</td>\n",
       "      <td>9550</td>\n",
       "      <td>Pave</td>\n",
       "      <td>NaN</td>\n",
       "      <td>IR1</td>\n",
       "      <td>Lvl</td>\n",
       "      <td>AllPub</td>\n",
       "      <td>...</td>\n",
       "      <td>0</td>\n",
       "      <td>NaN</td>\n",
       "      <td>NaN</td>\n",
       "      <td>NaN</td>\n",
       "      <td>0</td>\n",
       "      <td>2</td>\n",
       "      <td>2006</td>\n",
       "      <td>WD</td>\n",
       "      <td>Abnorml</td>\n",
       "      <td>140000</td>\n",
       "    </tr>\n",
       "    <tr>\n",
       "      <th>4</th>\n",
       "      <td>5</td>\n",
       "      <td>60</td>\n",
       "      <td>RL</td>\n",
       "      <td>84.0</td>\n",
       "      <td>14260</td>\n",
       "      <td>Pave</td>\n",
       "      <td>NaN</td>\n",
       "      <td>IR1</td>\n",
       "      <td>Lvl</td>\n",
       "      <td>AllPub</td>\n",
       "      <td>...</td>\n",
       "      <td>0</td>\n",
       "      <td>NaN</td>\n",
       "      <td>NaN</td>\n",
       "      <td>NaN</td>\n",
       "      <td>0</td>\n",
       "      <td>12</td>\n",
       "      <td>2008</td>\n",
       "      <td>WD</td>\n",
       "      <td>Normal</td>\n",
       "      <td>250000</td>\n",
       "    </tr>\n",
       "  </tbody>\n",
       "</table>\n",
       "<p>5 rows × 81 columns</p>\n",
       "</div>"
      ],
      "text/plain": [
       "   Id  MSSubClass MSZoning  LotFrontage  LotArea Street Alley LotShape  \\\n",
       "0   1          60       RL         65.0     8450   Pave   NaN      Reg   \n",
       "1   2          20       RL         80.0     9600   Pave   NaN      Reg   \n",
       "2   3          60       RL         68.0    11250   Pave   NaN      IR1   \n",
       "3   4          70       RL         60.0     9550   Pave   NaN      IR1   \n",
       "4   5          60       RL         84.0    14260   Pave   NaN      IR1   \n",
       "\n",
       "  LandContour Utilities  ... PoolArea PoolQC Fence MiscFeature MiscVal MoSold  \\\n",
       "0         Lvl    AllPub  ...        0    NaN   NaN         NaN       0      2   \n",
       "1         Lvl    AllPub  ...        0    NaN   NaN         NaN       0      5   \n",
       "2         Lvl    AllPub  ...        0    NaN   NaN         NaN       0      9   \n",
       "3         Lvl    AllPub  ...        0    NaN   NaN         NaN       0      2   \n",
       "4         Lvl    AllPub  ...        0    NaN   NaN         NaN       0     12   \n",
       "\n",
       "  YrSold  SaleType  SaleCondition  SalePrice  \n",
       "0   2008        WD         Normal     208500  \n",
       "1   2007        WD         Normal     181500  \n",
       "2   2008        WD         Normal     223500  \n",
       "3   2006        WD        Abnorml     140000  \n",
       "4   2008        WD         Normal     250000  \n",
       "\n",
       "[5 rows x 81 columns]"
      ]
     },
     "execution_count": 1,
     "metadata": {},
     "output_type": "execute_result"
    }
   ],
   "source": [
    "import pandas as pd\n",
    "%matplotlib inline\n",
    "import matplotlib.pyplot as plt\n",
    "import seaborn as sns\n",
    "import numpy as np\n",
    "from pandas.plotting import scatter_matrix\n",
    "from matplotlib import pyplot\n",
    "data_train=pd.read_csv('../input/house-prices-advanced-regression-techniques/train.csv')\n",
    "data_test=pd.read_csv('../input/house-prices-advanced-regression-techniques/test.csv')\n",
    "data_train.head()"
   ]
  },
  {
   "cell_type": "markdown",
   "id": "2cddd4e7",
   "metadata": {
    "papermill": {
     "duration": 0.017169,
     "end_time": "2022-09-30T13:12:52.727909",
     "exception": false,
     "start_time": "2022-09-30T13:12:52.710740",
     "status": "completed"
    },
    "tags": []
   },
   "source": [
    "# Analise do DataFrame;\n",
    "Vamos chamar as funções:"
   ]
  },
  {
   "cell_type": "markdown",
   "id": "14674ea3",
   "metadata": {
    "papermill": {
     "duration": 0.016905,
     "end_time": "2022-09-30T13:12:52.762275",
     "exception": false,
     "start_time": "2022-09-30T13:12:52.745370",
     "status": "completed"
    },
    "tags": []
   },
   "source": [
    "**.describe():** Analisar se não existe nada de anormal nas colunas, como medias de lotes e etc iguais a 0."
   ]
  },
  {
   "cell_type": "markdown",
   "id": "88d889c7",
   "metadata": {
    "papermill": {
     "duration": 0.016967,
     "end_time": "2022-09-30T13:12:52.796537",
     "exception": false,
     "start_time": "2022-09-30T13:12:52.779570",
     "status": "completed"
    },
    "tags": []
   },
   "source": [
    "**.info():** Ver quantas linhas não nulas cada coluna tem e se são categorigas ou númericas, informação que usarei logo mais."
   ]
  },
  {
   "cell_type": "markdown",
   "id": "aadfc560",
   "metadata": {
    "papermill": {
     "duration": 0.016823,
     "end_time": "2022-09-30T13:12:52.830604",
     "exception": false,
     "start_time": "2022-09-30T13:12:52.813781",
     "status": "completed"
    },
    "tags": []
   },
   "source": [
    "**.isnull() e .sort_values(ascending=False):** Ver quais são as 20 primeiras colunas com mais linhas nulas."
   ]
  },
  {
   "cell_type": "code",
   "execution_count": 2,
   "id": "0f68957d",
   "metadata": {
    "execution": {
     "iopub.execute_input": "2022-09-30T13:12:52.867731Z",
     "iopub.status.busy": "2022-09-30T13:12:52.866904Z",
     "iopub.status.idle": "2022-09-30T13:12:52.982665Z",
     "shell.execute_reply": "2022-09-30T13:12:52.981466Z"
    },
    "papermill": {
     "duration": 0.137232,
     "end_time": "2022-09-30T13:12:52.985156",
     "exception": false,
     "start_time": "2022-09-30T13:12:52.847924",
     "status": "completed"
    },
    "tags": []
   },
   "outputs": [
    {
     "data": {
      "text/html": [
       "<div>\n",
       "<style scoped>\n",
       "    .dataframe tbody tr th:only-of-type {\n",
       "        vertical-align: middle;\n",
       "    }\n",
       "\n",
       "    .dataframe tbody tr th {\n",
       "        vertical-align: top;\n",
       "    }\n",
       "\n",
       "    .dataframe thead th {\n",
       "        text-align: right;\n",
       "    }\n",
       "</style>\n",
       "<table border=\"1\" class=\"dataframe\">\n",
       "  <thead>\n",
       "    <tr style=\"text-align: right;\">\n",
       "      <th></th>\n",
       "      <th>Id</th>\n",
       "      <th>MSSubClass</th>\n",
       "      <th>LotFrontage</th>\n",
       "      <th>LotArea</th>\n",
       "      <th>OverallQual</th>\n",
       "      <th>OverallCond</th>\n",
       "      <th>YearBuilt</th>\n",
       "      <th>YearRemodAdd</th>\n",
       "      <th>MasVnrArea</th>\n",
       "      <th>BsmtFinSF1</th>\n",
       "      <th>...</th>\n",
       "      <th>WoodDeckSF</th>\n",
       "      <th>OpenPorchSF</th>\n",
       "      <th>EnclosedPorch</th>\n",
       "      <th>3SsnPorch</th>\n",
       "      <th>ScreenPorch</th>\n",
       "      <th>PoolArea</th>\n",
       "      <th>MiscVal</th>\n",
       "      <th>MoSold</th>\n",
       "      <th>YrSold</th>\n",
       "      <th>SalePrice</th>\n",
       "    </tr>\n",
       "  </thead>\n",
       "  <tbody>\n",
       "    <tr>\n",
       "      <th>count</th>\n",
       "      <td>1460.000000</td>\n",
       "      <td>1460.000000</td>\n",
       "      <td>1201.000000</td>\n",
       "      <td>1460.000000</td>\n",
       "      <td>1460.000000</td>\n",
       "      <td>1460.000000</td>\n",
       "      <td>1460.000000</td>\n",
       "      <td>1460.000000</td>\n",
       "      <td>1452.000000</td>\n",
       "      <td>1460.000000</td>\n",
       "      <td>...</td>\n",
       "      <td>1460.000000</td>\n",
       "      <td>1460.000000</td>\n",
       "      <td>1460.000000</td>\n",
       "      <td>1460.000000</td>\n",
       "      <td>1460.000000</td>\n",
       "      <td>1460.000000</td>\n",
       "      <td>1460.000000</td>\n",
       "      <td>1460.000000</td>\n",
       "      <td>1460.000000</td>\n",
       "      <td>1460.000000</td>\n",
       "    </tr>\n",
       "    <tr>\n",
       "      <th>mean</th>\n",
       "      <td>730.500000</td>\n",
       "      <td>56.897260</td>\n",
       "      <td>70.049958</td>\n",
       "      <td>10516.828082</td>\n",
       "      <td>6.099315</td>\n",
       "      <td>5.575342</td>\n",
       "      <td>1971.267808</td>\n",
       "      <td>1984.865753</td>\n",
       "      <td>103.685262</td>\n",
       "      <td>443.639726</td>\n",
       "      <td>...</td>\n",
       "      <td>94.244521</td>\n",
       "      <td>46.660274</td>\n",
       "      <td>21.954110</td>\n",
       "      <td>3.409589</td>\n",
       "      <td>15.060959</td>\n",
       "      <td>2.758904</td>\n",
       "      <td>43.489041</td>\n",
       "      <td>6.321918</td>\n",
       "      <td>2007.815753</td>\n",
       "      <td>180921.195890</td>\n",
       "    </tr>\n",
       "    <tr>\n",
       "      <th>std</th>\n",
       "      <td>421.610009</td>\n",
       "      <td>42.300571</td>\n",
       "      <td>24.284752</td>\n",
       "      <td>9981.264932</td>\n",
       "      <td>1.382997</td>\n",
       "      <td>1.112799</td>\n",
       "      <td>30.202904</td>\n",
       "      <td>20.645407</td>\n",
       "      <td>181.066207</td>\n",
       "      <td>456.098091</td>\n",
       "      <td>...</td>\n",
       "      <td>125.338794</td>\n",
       "      <td>66.256028</td>\n",
       "      <td>61.119149</td>\n",
       "      <td>29.317331</td>\n",
       "      <td>55.757415</td>\n",
       "      <td>40.177307</td>\n",
       "      <td>496.123024</td>\n",
       "      <td>2.703626</td>\n",
       "      <td>1.328095</td>\n",
       "      <td>79442.502883</td>\n",
       "    </tr>\n",
       "    <tr>\n",
       "      <th>min</th>\n",
       "      <td>1.000000</td>\n",
       "      <td>20.000000</td>\n",
       "      <td>21.000000</td>\n",
       "      <td>1300.000000</td>\n",
       "      <td>1.000000</td>\n",
       "      <td>1.000000</td>\n",
       "      <td>1872.000000</td>\n",
       "      <td>1950.000000</td>\n",
       "      <td>0.000000</td>\n",
       "      <td>0.000000</td>\n",
       "      <td>...</td>\n",
       "      <td>0.000000</td>\n",
       "      <td>0.000000</td>\n",
       "      <td>0.000000</td>\n",
       "      <td>0.000000</td>\n",
       "      <td>0.000000</td>\n",
       "      <td>0.000000</td>\n",
       "      <td>0.000000</td>\n",
       "      <td>1.000000</td>\n",
       "      <td>2006.000000</td>\n",
       "      <td>34900.000000</td>\n",
       "    </tr>\n",
       "    <tr>\n",
       "      <th>25%</th>\n",
       "      <td>365.750000</td>\n",
       "      <td>20.000000</td>\n",
       "      <td>59.000000</td>\n",
       "      <td>7553.500000</td>\n",
       "      <td>5.000000</td>\n",
       "      <td>5.000000</td>\n",
       "      <td>1954.000000</td>\n",
       "      <td>1967.000000</td>\n",
       "      <td>0.000000</td>\n",
       "      <td>0.000000</td>\n",
       "      <td>...</td>\n",
       "      <td>0.000000</td>\n",
       "      <td>0.000000</td>\n",
       "      <td>0.000000</td>\n",
       "      <td>0.000000</td>\n",
       "      <td>0.000000</td>\n",
       "      <td>0.000000</td>\n",
       "      <td>0.000000</td>\n",
       "      <td>5.000000</td>\n",
       "      <td>2007.000000</td>\n",
       "      <td>129975.000000</td>\n",
       "    </tr>\n",
       "    <tr>\n",
       "      <th>50%</th>\n",
       "      <td>730.500000</td>\n",
       "      <td>50.000000</td>\n",
       "      <td>69.000000</td>\n",
       "      <td>9478.500000</td>\n",
       "      <td>6.000000</td>\n",
       "      <td>5.000000</td>\n",
       "      <td>1973.000000</td>\n",
       "      <td>1994.000000</td>\n",
       "      <td>0.000000</td>\n",
       "      <td>383.500000</td>\n",
       "      <td>...</td>\n",
       "      <td>0.000000</td>\n",
       "      <td>25.000000</td>\n",
       "      <td>0.000000</td>\n",
       "      <td>0.000000</td>\n",
       "      <td>0.000000</td>\n",
       "      <td>0.000000</td>\n",
       "      <td>0.000000</td>\n",
       "      <td>6.000000</td>\n",
       "      <td>2008.000000</td>\n",
       "      <td>163000.000000</td>\n",
       "    </tr>\n",
       "    <tr>\n",
       "      <th>75%</th>\n",
       "      <td>1095.250000</td>\n",
       "      <td>70.000000</td>\n",
       "      <td>80.000000</td>\n",
       "      <td>11601.500000</td>\n",
       "      <td>7.000000</td>\n",
       "      <td>6.000000</td>\n",
       "      <td>2000.000000</td>\n",
       "      <td>2004.000000</td>\n",
       "      <td>166.000000</td>\n",
       "      <td>712.250000</td>\n",
       "      <td>...</td>\n",
       "      <td>168.000000</td>\n",
       "      <td>68.000000</td>\n",
       "      <td>0.000000</td>\n",
       "      <td>0.000000</td>\n",
       "      <td>0.000000</td>\n",
       "      <td>0.000000</td>\n",
       "      <td>0.000000</td>\n",
       "      <td>8.000000</td>\n",
       "      <td>2009.000000</td>\n",
       "      <td>214000.000000</td>\n",
       "    </tr>\n",
       "    <tr>\n",
       "      <th>max</th>\n",
       "      <td>1460.000000</td>\n",
       "      <td>190.000000</td>\n",
       "      <td>313.000000</td>\n",
       "      <td>215245.000000</td>\n",
       "      <td>10.000000</td>\n",
       "      <td>9.000000</td>\n",
       "      <td>2010.000000</td>\n",
       "      <td>2010.000000</td>\n",
       "      <td>1600.000000</td>\n",
       "      <td>5644.000000</td>\n",
       "      <td>...</td>\n",
       "      <td>857.000000</td>\n",
       "      <td>547.000000</td>\n",
       "      <td>552.000000</td>\n",
       "      <td>508.000000</td>\n",
       "      <td>480.000000</td>\n",
       "      <td>738.000000</td>\n",
       "      <td>15500.000000</td>\n",
       "      <td>12.000000</td>\n",
       "      <td>2010.000000</td>\n",
       "      <td>755000.000000</td>\n",
       "    </tr>\n",
       "  </tbody>\n",
       "</table>\n",
       "<p>8 rows × 38 columns</p>\n",
       "</div>"
      ],
      "text/plain": [
       "                Id   MSSubClass  LotFrontage        LotArea  OverallQual  \\\n",
       "count  1460.000000  1460.000000  1201.000000    1460.000000  1460.000000   \n",
       "mean    730.500000    56.897260    70.049958   10516.828082     6.099315   \n",
       "std     421.610009    42.300571    24.284752    9981.264932     1.382997   \n",
       "min       1.000000    20.000000    21.000000    1300.000000     1.000000   \n",
       "25%     365.750000    20.000000    59.000000    7553.500000     5.000000   \n",
       "50%     730.500000    50.000000    69.000000    9478.500000     6.000000   \n",
       "75%    1095.250000    70.000000    80.000000   11601.500000     7.000000   \n",
       "max    1460.000000   190.000000   313.000000  215245.000000    10.000000   \n",
       "\n",
       "       OverallCond    YearBuilt  YearRemodAdd   MasVnrArea   BsmtFinSF1  ...  \\\n",
       "count  1460.000000  1460.000000   1460.000000  1452.000000  1460.000000  ...   \n",
       "mean      5.575342  1971.267808   1984.865753   103.685262   443.639726  ...   \n",
       "std       1.112799    30.202904     20.645407   181.066207   456.098091  ...   \n",
       "min       1.000000  1872.000000   1950.000000     0.000000     0.000000  ...   \n",
       "25%       5.000000  1954.000000   1967.000000     0.000000     0.000000  ...   \n",
       "50%       5.000000  1973.000000   1994.000000     0.000000   383.500000  ...   \n",
       "75%       6.000000  2000.000000   2004.000000   166.000000   712.250000  ...   \n",
       "max       9.000000  2010.000000   2010.000000  1600.000000  5644.000000  ...   \n",
       "\n",
       "        WoodDeckSF  OpenPorchSF  EnclosedPorch    3SsnPorch  ScreenPorch  \\\n",
       "count  1460.000000  1460.000000    1460.000000  1460.000000  1460.000000   \n",
       "mean     94.244521    46.660274      21.954110     3.409589    15.060959   \n",
       "std     125.338794    66.256028      61.119149    29.317331    55.757415   \n",
       "min       0.000000     0.000000       0.000000     0.000000     0.000000   \n",
       "25%       0.000000     0.000000       0.000000     0.000000     0.000000   \n",
       "50%       0.000000    25.000000       0.000000     0.000000     0.000000   \n",
       "75%     168.000000    68.000000       0.000000     0.000000     0.000000   \n",
       "max     857.000000   547.000000     552.000000   508.000000   480.000000   \n",
       "\n",
       "          PoolArea       MiscVal       MoSold       YrSold      SalePrice  \n",
       "count  1460.000000   1460.000000  1460.000000  1460.000000    1460.000000  \n",
       "mean      2.758904     43.489041     6.321918  2007.815753  180921.195890  \n",
       "std      40.177307    496.123024     2.703626     1.328095   79442.502883  \n",
       "min       0.000000      0.000000     1.000000  2006.000000   34900.000000  \n",
       "25%       0.000000      0.000000     5.000000  2007.000000  129975.000000  \n",
       "50%       0.000000      0.000000     6.000000  2008.000000  163000.000000  \n",
       "75%       0.000000      0.000000     8.000000  2009.000000  214000.000000  \n",
       "max     738.000000  15500.000000    12.000000  2010.000000  755000.000000  \n",
       "\n",
       "[8 rows x 38 columns]"
      ]
     },
     "execution_count": 2,
     "metadata": {},
     "output_type": "execute_result"
    }
   ],
   "source": [
    "data_train.describe()"
   ]
  },
  {
   "cell_type": "code",
   "execution_count": 3,
   "id": "06db67f0",
   "metadata": {
    "execution": {
     "iopub.execute_input": "2022-09-30T13:12:53.023915Z",
     "iopub.status.busy": "2022-09-30T13:12:53.023437Z",
     "iopub.status.idle": "2022-09-30T13:12:53.049447Z",
     "shell.execute_reply": "2022-09-30T13:12:53.048575Z"
    },
    "papermill": {
     "duration": 0.049287,
     "end_time": "2022-09-30T13:12:53.052437",
     "exception": false,
     "start_time": "2022-09-30T13:12:53.003150",
     "status": "completed"
    },
    "tags": []
   },
   "outputs": [
    {
     "name": "stdout",
     "output_type": "stream",
     "text": [
      "<class 'pandas.core.frame.DataFrame'>\n",
      "RangeIndex: 1460 entries, 0 to 1459\n",
      "Data columns (total 81 columns):\n",
      " #   Column         Non-Null Count  Dtype  \n",
      "---  ------         --------------  -----  \n",
      " 0   Id             1460 non-null   int64  \n",
      " 1   MSSubClass     1460 non-null   int64  \n",
      " 2   MSZoning       1460 non-null   object \n",
      " 3   LotFrontage    1201 non-null   float64\n",
      " 4   LotArea        1460 non-null   int64  \n",
      " 5   Street         1460 non-null   object \n",
      " 6   Alley          91 non-null     object \n",
      " 7   LotShape       1460 non-null   object \n",
      " 8   LandContour    1460 non-null   object \n",
      " 9   Utilities      1460 non-null   object \n",
      " 10  LotConfig      1460 non-null   object \n",
      " 11  LandSlope      1460 non-null   object \n",
      " 12  Neighborhood   1460 non-null   object \n",
      " 13  Condition1     1460 non-null   object \n",
      " 14  Condition2     1460 non-null   object \n",
      " 15  BldgType       1460 non-null   object \n",
      " 16  HouseStyle     1460 non-null   object \n",
      " 17  OverallQual    1460 non-null   int64  \n",
      " 18  OverallCond    1460 non-null   int64  \n",
      " 19  YearBuilt      1460 non-null   int64  \n",
      " 20  YearRemodAdd   1460 non-null   int64  \n",
      " 21  RoofStyle      1460 non-null   object \n",
      " 22  RoofMatl       1460 non-null   object \n",
      " 23  Exterior1st    1460 non-null   object \n",
      " 24  Exterior2nd    1460 non-null   object \n",
      " 25  MasVnrType     1452 non-null   object \n",
      " 26  MasVnrArea     1452 non-null   float64\n",
      " 27  ExterQual      1460 non-null   object \n",
      " 28  ExterCond      1460 non-null   object \n",
      " 29  Foundation     1460 non-null   object \n",
      " 30  BsmtQual       1423 non-null   object \n",
      " 31  BsmtCond       1423 non-null   object \n",
      " 32  BsmtExposure   1422 non-null   object \n",
      " 33  BsmtFinType1   1423 non-null   object \n",
      " 34  BsmtFinSF1     1460 non-null   int64  \n",
      " 35  BsmtFinType2   1422 non-null   object \n",
      " 36  BsmtFinSF2     1460 non-null   int64  \n",
      " 37  BsmtUnfSF      1460 non-null   int64  \n",
      " 38  TotalBsmtSF    1460 non-null   int64  \n",
      " 39  Heating        1460 non-null   object \n",
      " 40  HeatingQC      1460 non-null   object \n",
      " 41  CentralAir     1460 non-null   object \n",
      " 42  Electrical     1459 non-null   object \n",
      " 43  1stFlrSF       1460 non-null   int64  \n",
      " 44  2ndFlrSF       1460 non-null   int64  \n",
      " 45  LowQualFinSF   1460 non-null   int64  \n",
      " 46  GrLivArea      1460 non-null   int64  \n",
      " 47  BsmtFullBath   1460 non-null   int64  \n",
      " 48  BsmtHalfBath   1460 non-null   int64  \n",
      " 49  FullBath       1460 non-null   int64  \n",
      " 50  HalfBath       1460 non-null   int64  \n",
      " 51  BedroomAbvGr   1460 non-null   int64  \n",
      " 52  KitchenAbvGr   1460 non-null   int64  \n",
      " 53  KitchenQual    1460 non-null   object \n",
      " 54  TotRmsAbvGrd   1460 non-null   int64  \n",
      " 55  Functional     1460 non-null   object \n",
      " 56  Fireplaces     1460 non-null   int64  \n",
      " 57  FireplaceQu    770 non-null    object \n",
      " 58  GarageType     1379 non-null   object \n",
      " 59  GarageYrBlt    1379 non-null   float64\n",
      " 60  GarageFinish   1379 non-null   object \n",
      " 61  GarageCars     1460 non-null   int64  \n",
      " 62  GarageArea     1460 non-null   int64  \n",
      " 63  GarageQual     1379 non-null   object \n",
      " 64  GarageCond     1379 non-null   object \n",
      " 65  PavedDrive     1460 non-null   object \n",
      " 66  WoodDeckSF     1460 non-null   int64  \n",
      " 67  OpenPorchSF    1460 non-null   int64  \n",
      " 68  EnclosedPorch  1460 non-null   int64  \n",
      " 69  3SsnPorch      1460 non-null   int64  \n",
      " 70  ScreenPorch    1460 non-null   int64  \n",
      " 71  PoolArea       1460 non-null   int64  \n",
      " 72  PoolQC         7 non-null      object \n",
      " 73  Fence          281 non-null    object \n",
      " 74  MiscFeature    54 non-null     object \n",
      " 75  MiscVal        1460 non-null   int64  \n",
      " 76  MoSold         1460 non-null   int64  \n",
      " 77  YrSold         1460 non-null   int64  \n",
      " 78  SaleType       1460 non-null   object \n",
      " 79  SaleCondition  1460 non-null   object \n",
      " 80  SalePrice      1460 non-null   int64  \n",
      "dtypes: float64(3), int64(35), object(43)\n",
      "memory usage: 924.0+ KB\n"
     ]
    }
   ],
   "source": [
    "data_train.info()"
   ]
  },
  {
   "cell_type": "code",
   "execution_count": 4,
   "id": "050d3946",
   "metadata": {
    "execution": {
     "iopub.execute_input": "2022-09-30T13:12:53.098153Z",
     "iopub.status.busy": "2022-09-30T13:12:53.097263Z",
     "iopub.status.idle": "2022-09-30T13:12:53.112590Z",
     "shell.execute_reply": "2022-09-30T13:12:53.111704Z"
    },
    "papermill": {
     "duration": 0.043355,
     "end_time": "2022-09-30T13:12:53.115560",
     "exception": false,
     "start_time": "2022-09-30T13:12:53.072205",
     "status": "completed"
    },
    "tags": []
   },
   "outputs": [
    {
     "data": {
      "text/plain": [
       "PoolQC          1453\n",
       "MiscFeature     1406\n",
       "Alley           1369\n",
       "Fence           1179\n",
       "FireplaceQu      690\n",
       "LotFrontage      259\n",
       "GarageYrBlt       81\n",
       "GarageCond        81\n",
       "GarageType        81\n",
       "GarageFinish      81\n",
       "GarageQual        81\n",
       "BsmtFinType2      38\n",
       "BsmtExposure      38\n",
       "BsmtQual          37\n",
       "BsmtCond          37\n",
       "BsmtFinType1      37\n",
       "MasVnrArea         8\n",
       "MasVnrType         8\n",
       "Electrical         1\n",
       "Id                 0\n",
       "dtype: int64"
      ]
     },
     "execution_count": 4,
     "metadata": {},
     "output_type": "execute_result"
    }
   ],
   "source": [
    "nulos=data_train.isnull().sum().sort_values(ascending=False)[:20]\n",
    "nulos"
   ]
  },
  {
   "cell_type": "code",
   "execution_count": 5,
   "id": "61c9e60c",
   "metadata": {
    "execution": {
     "iopub.execute_input": "2022-09-30T13:12:53.169605Z",
     "iopub.status.busy": "2022-09-30T13:12:53.168686Z",
     "iopub.status.idle": "2022-09-30T13:12:53.613281Z",
     "shell.execute_reply": "2022-09-30T13:12:53.611986Z"
    },
    "papermill": {
     "duration": 0.476376,
     "end_time": "2022-09-30T13:12:53.616502",
     "exception": false,
     "start_time": "2022-09-30T13:12:53.140126",
     "status": "completed"
    },
    "tags": []
   },
   "outputs": [
    {
     "data": {
      "text/plain": [
       "Text(0.5, 1.0, 'Colunas com muitos valores nulos')"
      ]
     },
     "execution_count": 5,
     "metadata": {},
     "output_type": "execute_result"
    },
    {
     "data": {
      "image/png": "[encoded data removed]",
      "text/plain": [
       "<Figure size 720x576 with 1 Axes>"
      ]
     },
     "metadata": {
      "needs_background": "light"
     },
     "output_type": "display_data"
    }
   ],
   "source": [
    "f, ax = plt.subplots(figsize=(10, 8))\n",
    "plt.xticks(rotation='90')\n",
    "sns.barplot(x=nulos.index, y=nulos, palette='RdPu')\n",
    "plt.xlabel('Features', fontsize=15)\n",
    "plt.ylabel('Quantidade de dados nulos', fontsize=15)\n",
    "plt.title('Colunas com muitos valores nulos', fontsize=15)"
   ]
  },
  {
   "cell_type": "markdown",
   "id": "05d5ea1c",
   "metadata": {
    "papermill": {
     "duration": 0.019036,
     "end_time": "2022-09-30T13:12:53.661264",
     "exception": false,
     "start_time": "2022-09-30T13:12:53.642228",
     "status": "completed"
    },
    "tags": []
   },
   "source": [
    "As colunas com muitos valores nulos devem ser retiradas pois não vai me ajudar a treinar meu modelo."
   ]
  },
  {
   "cell_type": "markdown",
   "id": "17dd9fff",
   "metadata": {
    "papermill": {
     "duration": 0.018874,
     "end_time": "2022-09-30T13:12:53.699371",
     "exception": false,
     "start_time": "2022-09-30T13:12:53.680497",
     "status": "completed"
    },
    "tags": []
   },
   "source": [
    "# Correlação dos dados com SalePrice"
   ]
  },
  {
   "cell_type": "code",
   "execution_count": 6,
   "id": "baaaecca",
   "metadata": {
    "execution": {
     "iopub.execute_input": "2022-09-30T13:12:53.740445Z",
     "iopub.status.busy": "2022-09-30T13:12:53.739494Z",
     "iopub.status.idle": "2022-09-30T13:12:54.813011Z",
     "shell.execute_reply": "2022-09-30T13:12:54.811748Z"
    },
    "papermill": {
     "duration": 1.097213,
     "end_time": "2022-09-30T13:12:54.815734",
     "exception": false,
     "start_time": "2022-09-30T13:12:53.718521",
     "status": "completed"
    },
    "tags": []
   },
   "outputs": [
    {
     "data": {
      "text/plain": [
       "<AxesSubplot:>"
      ]
     },
     "execution_count": 6,
     "metadata": {},
     "output_type": "execute_result"
    },
    {
     "data": {
      "image/png": "[encoded data removed]",
      "text/plain": [
       "<Figure size 864x648 with 2 Axes>"
      ]
     },
     "metadata": {
      "needs_background": "light"
     },
     "output_type": "display_data"
    }
   ],
   "source": [
    "corr = data_train.corr()\n",
    "plt.subplots(figsize=(12,9))\n",
    "sns.heatmap(corr, cmap=\"YlGnBu\", vmax=0.9, square=True)"
   ]
  },
  {
   "cell_type": "markdown",
   "id": "1085fb09",
   "metadata": {
    "papermill": {
     "duration": 0.020211,
     "end_time": "2022-09-30T13:12:54.856963",
     "exception": false,
     "start_time": "2022-09-30T13:12:54.836752",
     "status": "completed"
    },
    "tags": []
   },
   "source": [
    "As colunas sem correlação com SalePrice devem ser retiradas dos dataframes também, pois não vão ajudar no treinamento. Para identificalas basta olhar a coluna SalePrice, no eixo x, e no eixo y você encontrara as mesmas colunas, então onde estiver muito claro é porque tem pouca relação e se estiver muito escuro é porque tem muita relação, por exemplo, em GrLivArea existe muita relação com SalePrice, está muito azul, sendo assim lá na frente devo analisar essa coluna melhor."
   ]
  },
  {
   "cell_type": "code",
   "execution_count": 7,
   "id": "ed94e5ff",
   "metadata": {
    "execution": {
     "iopub.execute_input": "2022-09-30T13:12:54.902980Z",
     "iopub.status.busy": "2022-09-30T13:12:54.902586Z",
     "iopub.status.idle": "2022-09-30T13:12:54.911324Z",
     "shell.execute_reply": "2022-09-30T13:12:54.910372Z"
    },
    "papermill": {
     "duration": 0.033468,
     "end_time": "2022-09-30T13:12:54.913773",
     "exception": false,
     "start_time": "2022-09-30T13:12:54.880305",
     "status": "completed"
    },
    "tags": []
   },
   "outputs": [],
   "source": [
    "df_train=data_train.drop(['Id','Alley','PoolQC','Fence','MiscFeature','SaleType','SaleCondition','Condition1','Condition2','YearRemodAdd','Exterior2nd','Exterior1st','FireplaceQu'], axis=1)\n",
    "df_test=data_test.drop(['Id','Alley','PoolQC','Fence','MiscFeature','SaleType','SaleCondition','Condition1','Condition2','YearRemodAdd','Exterior2nd','Exterior1st','FireplaceQu'], axis=1)"
   ]
  },
  {
   "cell_type": "markdown",
   "id": "95c1e746",
   "metadata": {
    "papermill": {
     "duration": 0.020494,
     "end_time": "2022-09-30T13:12:54.954834",
     "exception": false,
     "start_time": "2022-09-30T13:12:54.934340",
     "status": "completed"
    },
    "tags": []
   },
   "source": [
    "# Substituindo valores nulos\n",
    "Para as colunas que contem menos valores nulos o mais adequado, ao meu ver, é substituilos pela mediana e valor mais frequente usando a função **.fillna()**. Porque isso vai fazer com que meu treinamento fique mais preciso, pois os valores nulos são poucos e não vão fugir tanto da realidade. Por exemplo, se eu substituir os dados nulos de MasVnrType ou Electrical, colunas com 8 e 1 dados nulos, pelo dado mais frequente existe uma chance boa de que esses valores faltantes coincidam com o substituto. Outro exemplo é se em BsmtFinType2, coluna com apenas 38 valores nulos, os valores nulos fossem substituidos por um dado único, estatisticamente, a chance de que esses dados faltantes coincidiriam com esse dado que apareceu apenas 1 vez em toda coluna iria ser muito baixa, por isso usei o dado mais frequente."
   ]
  },
  {
   "cell_type": "code",
   "execution_count": 8,
   "id": "b71de74e",
   "metadata": {
    "execution": {
     "iopub.execute_input": "2022-09-30T13:12:54.998563Z",
     "iopub.status.busy": "2022-09-30T13:12:54.998157Z",
     "iopub.status.idle": "2022-09-30T13:12:55.012604Z",
     "shell.execute_reply": "2022-09-30T13:12:55.011443Z"
    },
    "papermill": {
     "duration": 0.039055,
     "end_time": "2022-09-30T13:12:55.014978",
     "exception": false,
     "start_time": "2022-09-30T13:12:54.975923",
     "status": "completed"
    },
    "tags": []
   },
   "outputs": [
    {
     "data": {
      "text/plain": [
       "0"
      ]
     },
     "execution_count": 8,
     "metadata": {},
     "output_type": "execute_result"
    }
   ],
   "source": [
    "LotFrontage = df_train.LotFrontage.median()\n",
    "df_train.fillna(LotFrontage, inplace=True)\n",
    "df_train.LotFrontage.isnull().sum()"
   ]
  },
  {
   "cell_type": "code",
   "execution_count": 9,
   "id": "d6ebbcd3",
   "metadata": {
    "execution": {
     "iopub.execute_input": "2022-09-30T13:12:55.058983Z",
     "iopub.status.busy": "2022-09-30T13:12:55.058283Z",
     "iopub.status.idle": "2022-09-30T13:12:55.072323Z",
     "shell.execute_reply": "2022-09-30T13:12:55.071416Z"
    },
    "papermill": {
     "duration": 0.038561,
     "end_time": "2022-09-30T13:12:55.074401",
     "exception": false,
     "start_time": "2022-09-30T13:12:55.035840",
     "status": "completed"
    },
    "tags": []
   },
   "outputs": [
    {
     "data": {
      "text/plain": [
       "0"
      ]
     },
     "execution_count": 9,
     "metadata": {},
     "output_type": "execute_result"
    }
   ],
   "source": [
    "GarageType = df_train['GarageType'].value_counts()[0]\n",
    "df_train.fillna(GarageType, inplace=True)\n",
    "df_train.GarageType.isnull().sum()"
   ]
  },
  {
   "cell_type": "code",
   "execution_count": 10,
   "id": "6b0106cd",
   "metadata": {
    "execution": {
     "iopub.execute_input": "2022-09-30T13:12:55.118695Z",
     "iopub.status.busy": "2022-09-30T13:12:55.117997Z",
     "iopub.status.idle": "2022-09-30T13:12:55.132823Z",
     "shell.execute_reply": "2022-09-30T13:12:55.131654Z"
    },
    "papermill": {
     "duration": 0.040223,
     "end_time": "2022-09-30T13:12:55.135342",
     "exception": false,
     "start_time": "2022-09-30T13:12:55.095119",
     "status": "completed"
    },
    "tags": []
   },
   "outputs": [
    {
     "data": {
      "text/plain": [
       "0"
      ]
     },
     "execution_count": 10,
     "metadata": {},
     "output_type": "execute_result"
    }
   ],
   "source": [
    "GarageCond = df_train['GarageCond'].value_counts()[0]\n",
    "df_train.fillna(GarageCond, inplace=True)\n",
    "df_train.GarageCond.isnull().sum()"
   ]
  },
  {
   "cell_type": "code",
   "execution_count": 11,
   "id": "3fd14f45",
   "metadata": {
    "execution": {
     "iopub.execute_input": "2022-09-30T13:12:55.178386Z",
     "iopub.status.busy": "2022-09-30T13:12:55.177620Z",
     "iopub.status.idle": "2022-09-30T13:12:55.191725Z",
     "shell.execute_reply": "2022-09-30T13:12:55.190834Z"
    },
    "papermill": {
     "duration": 0.037998,
     "end_time": "2022-09-30T13:12:55.193855",
     "exception": false,
     "start_time": "2022-09-30T13:12:55.155857",
     "status": "completed"
    },
    "tags": []
   },
   "outputs": [
    {
     "data": {
      "text/plain": [
       "0"
      ]
     },
     "execution_count": 11,
     "metadata": {},
     "output_type": "execute_result"
    }
   ],
   "source": [
    "GarageYrBlt = df_train.GarageYrBlt.median()\n",
    "df_train.fillna(GarageYrBlt, inplace=True)\n",
    "df_train.GarageYrBlt.isnull().sum()"
   ]
  },
  {
   "cell_type": "code",
   "execution_count": 12,
   "id": "269a6fdb",
   "metadata": {
    "execution": {
     "iopub.execute_input": "2022-09-30T13:12:55.237455Z",
     "iopub.status.busy": "2022-09-30T13:12:55.236728Z",
     "iopub.status.idle": "2022-09-30T13:12:55.252189Z",
     "shell.execute_reply": "2022-09-30T13:12:55.250591Z"
    },
    "papermill": {
     "duration": 0.040116,
     "end_time": "2022-09-30T13:12:55.254656",
     "exception": false,
     "start_time": "2022-09-30T13:12:55.214540",
     "status": "completed"
    },
    "tags": []
   },
   "outputs": [
    {
     "data": {
      "text/plain": [
       "0"
      ]
     },
     "execution_count": 12,
     "metadata": {},
     "output_type": "execute_result"
    }
   ],
   "source": [
    "GarageFinish = df_train['GarageFinish'].value_counts()[0]\n",
    "df_train.fillna(GarageFinish, inplace=True)\n",
    "df_train.GarageFinish.isnull().sum()"
   ]
  },
  {
   "cell_type": "code",
   "execution_count": 13,
   "id": "3b89e2d2",
   "metadata": {
    "execution": {
     "iopub.execute_input": "2022-09-30T13:12:55.297770Z",
     "iopub.status.busy": "2022-09-30T13:12:55.297343Z",
     "iopub.status.idle": "2022-09-30T13:12:55.313440Z",
     "shell.execute_reply": "2022-09-30T13:12:55.312196Z"
    },
    "papermill": {
     "duration": 0.040348,
     "end_time": "2022-09-30T13:12:55.315831",
     "exception": false,
     "start_time": "2022-09-30T13:12:55.275483",
     "status": "completed"
    },
    "tags": []
   },
   "outputs": [
    {
     "data": {
      "text/plain": [
       "0"
      ]
     },
     "execution_count": 13,
     "metadata": {},
     "output_type": "execute_result"
    }
   ],
   "source": [
    "BsmtExposure = df_train['BsmtExposure'].value_counts()[0]\n",
    "df_train.fillna(BsmtExposure, inplace=True)\n",
    "df_train.BsmtExposure.isnull().sum()"
   ]
  },
  {
   "cell_type": "code",
   "execution_count": 14,
   "id": "4e0c1d1c",
   "metadata": {
    "execution": {
     "iopub.execute_input": "2022-09-30T13:12:55.360157Z",
     "iopub.status.busy": "2022-09-30T13:12:55.359332Z",
     "iopub.status.idle": "2022-09-30T13:12:55.375702Z",
     "shell.execute_reply": "2022-09-30T13:12:55.374656Z"
    },
    "papermill": {
     "duration": 0.04122,
     "end_time": "2022-09-30T13:12:55.377961",
     "exception": false,
     "start_time": "2022-09-30T13:12:55.336741",
     "status": "completed"
    },
    "tags": []
   },
   "outputs": [
    {
     "data": {
      "text/plain": [
       "0"
      ]
     },
     "execution_count": 14,
     "metadata": {},
     "output_type": "execute_result"
    }
   ],
   "source": [
    "BsmtFinType2 = df_train['BsmtFinType2'].value_counts()[0]\n",
    "df_train.fillna(BsmtFinType2, inplace=True)\n",
    "df_train.BsmtFinType2.isnull().sum()"
   ]
  },
  {
   "cell_type": "code",
   "execution_count": 15,
   "id": "746fc456",
   "metadata": {
    "execution": {
     "iopub.execute_input": "2022-09-30T13:12:55.421780Z",
     "iopub.status.busy": "2022-09-30T13:12:55.421242Z",
     "iopub.status.idle": "2022-09-30T13:12:55.436300Z",
     "shell.execute_reply": "2022-09-30T13:12:55.435059Z"
    },
    "papermill": {
     "duration": 0.0404,
     "end_time": "2022-09-30T13:12:55.439152",
     "exception": false,
     "start_time": "2022-09-30T13:12:55.398752",
     "status": "completed"
    },
    "tags": []
   },
   "outputs": [
    {
     "data": {
      "text/plain": [
       "0"
      ]
     },
     "execution_count": 15,
     "metadata": {},
     "output_type": "execute_result"
    }
   ],
   "source": [
    "BsmtQual = df_train['BsmtQual'].value_counts()[0]\n",
    "df_train.fillna(BsmtQual, inplace=True)\n",
    "df_train.BsmtQual.isnull().sum()"
   ]
  },
  {
   "cell_type": "code",
   "execution_count": 16,
   "id": "1bbfcb93",
   "metadata": {
    "execution": {
     "iopub.execute_input": "2022-09-30T13:12:55.483541Z",
     "iopub.status.busy": "2022-09-30T13:12:55.483101Z",
     "iopub.status.idle": "2022-09-30T13:12:55.497837Z",
     "shell.execute_reply": "2022-09-30T13:12:55.496614Z"
    },
    "papermill": {
     "duration": 0.040024,
     "end_time": "2022-09-30T13:12:55.500210",
     "exception": false,
     "start_time": "2022-09-30T13:12:55.460186",
     "status": "completed"
    },
    "tags": []
   },
   "outputs": [
    {
     "data": {
      "text/plain": [
       "0"
      ]
     },
     "execution_count": 16,
     "metadata": {},
     "output_type": "execute_result"
    }
   ],
   "source": [
    "BsmtFinType1 = df_train['BsmtFinType1'].value_counts()[0]\n",
    "df_train.fillna(BsmtFinType1, inplace=True)\n",
    "df_train.BsmtFinType1.isnull().sum()"
   ]
  },
  {
   "cell_type": "code",
   "execution_count": 17,
   "id": "767f52ae",
   "metadata": {
    "execution": {
     "iopub.execute_input": "2022-09-30T13:12:55.545949Z",
     "iopub.status.busy": "2022-09-30T13:12:55.545204Z",
     "iopub.status.idle": "2022-09-30T13:12:55.559481Z",
     "shell.execute_reply": "2022-09-30T13:12:55.558535Z"
    },
    "papermill": {
     "duration": 0.040266,
     "end_time": "2022-09-30T13:12:55.561957",
     "exception": false,
     "start_time": "2022-09-30T13:12:55.521691",
     "status": "completed"
    },
    "tags": []
   },
   "outputs": [
    {
     "data": {
      "text/plain": [
       "0"
      ]
     },
     "execution_count": 17,
     "metadata": {},
     "output_type": "execute_result"
    }
   ],
   "source": [
    "BsmtCond = df_train['BsmtCond'].value_counts()[0]\n",
    "df_train.fillna(BsmtCond, inplace=True)\n",
    "df_train.BsmtCond.isnull().sum()"
   ]
  },
  {
   "cell_type": "code",
   "execution_count": 18,
   "id": "df60e3f3",
   "metadata": {
    "execution": {
     "iopub.execute_input": "2022-09-30T13:12:55.606740Z",
     "iopub.status.busy": "2022-09-30T13:12:55.605997Z",
     "iopub.status.idle": "2022-09-30T13:12:55.621332Z",
     "shell.execute_reply": "2022-09-30T13:12:55.620109Z"
    },
    "papermill": {
     "duration": 0.040797,
     "end_time": "2022-09-30T13:12:55.624032",
     "exception": false,
     "start_time": "2022-09-30T13:12:55.583235",
     "status": "completed"
    },
    "tags": []
   },
   "outputs": [
    {
     "data": {
      "text/plain": [
       "0"
      ]
     },
     "execution_count": 18,
     "metadata": {},
     "output_type": "execute_result"
    }
   ],
   "source": [
    "MasVnrType = df_train['MasVnrType'].value_counts()[0]\n",
    "df_train.fillna(MasVnrType, inplace=True)\n",
    "df_train.MasVnrType.isnull().sum()"
   ]
  },
  {
   "cell_type": "code",
   "execution_count": 19,
   "id": "61f77aca",
   "metadata": {
    "execution": {
     "iopub.execute_input": "2022-09-30T13:12:55.670208Z",
     "iopub.status.busy": "2022-09-30T13:12:55.669784Z",
     "iopub.status.idle": "2022-09-30T13:12:55.685418Z",
     "shell.execute_reply": "2022-09-30T13:12:55.684018Z"
    },
    "papermill": {
     "duration": 0.041863,
     "end_time": "2022-09-30T13:12:55.688159",
     "exception": false,
     "start_time": "2022-09-30T13:12:55.646296",
     "status": "completed"
    },
    "tags": []
   },
   "outputs": [
    {
     "data": {
      "text/plain": [
       "0"
      ]
     },
     "execution_count": 19,
     "metadata": {},
     "output_type": "execute_result"
    }
   ],
   "source": [
    "MasVnrArea =df_train.MasVnrArea.median()\n",
    "df_train.fillna(MasVnrArea, inplace=True)\n",
    "df_train.MasVnrArea.isnull().sum()"
   ]
  },
  {
   "cell_type": "code",
   "execution_count": 20,
   "id": "87bfea92",
   "metadata": {
    "execution": {
     "iopub.execute_input": "2022-09-30T13:12:55.733690Z",
     "iopub.status.busy": "2022-09-30T13:12:55.733255Z",
     "iopub.status.idle": "2022-09-30T13:12:55.749245Z",
     "shell.execute_reply": "2022-09-30T13:12:55.748139Z"
    },
    "papermill": {
     "duration": 0.042098,
     "end_time": "2022-09-30T13:12:55.751992",
     "exception": false,
     "start_time": "2022-09-30T13:12:55.709894",
     "status": "completed"
    },
    "tags": []
   },
   "outputs": [
    {
     "data": {
      "text/plain": [
       "0"
      ]
     },
     "execution_count": 20,
     "metadata": {},
     "output_type": "execute_result"
    }
   ],
   "source": [
    "Electrical = df_train['Electrical'].value_counts()[0]\n",
    "df_train.fillna(Electrical, inplace=True)\n",
    "df_train.Electrical.isnull().sum()"
   ]
  },
  {
   "cell_type": "code",
   "execution_count": 21,
   "id": "68d863f5",
   "metadata": {
    "execution": {
     "iopub.execute_input": "2022-09-30T13:12:55.797276Z",
     "iopub.status.busy": "2022-09-30T13:12:55.796870Z",
     "iopub.status.idle": "2022-09-30T13:12:55.822588Z",
     "shell.execute_reply": "2022-09-30T13:12:55.821400Z"
    },
    "papermill": {
     "duration": 0.05104,
     "end_time": "2022-09-30T13:12:55.824869",
     "exception": false,
     "start_time": "2022-09-30T13:12:55.773829",
     "status": "completed"
    },
    "tags": []
   },
   "outputs": [
    {
     "data": {
      "text/html": [
       "<div>\n",
       "<style scoped>\n",
       "    .dataframe tbody tr th:only-of-type {\n",
       "        vertical-align: middle;\n",
       "    }\n",
       "\n",
       "    .dataframe tbody tr th {\n",
       "        vertical-align: top;\n",
       "    }\n",
       "\n",
       "    .dataframe thead th {\n",
       "        text-align: right;\n",
       "    }\n",
       "</style>\n",
       "<table border=\"1\" class=\"dataframe\">\n",
       "  <thead>\n",
       "    <tr style=\"text-align: right;\">\n",
       "      <th></th>\n",
       "      <th>MSSubClass</th>\n",
       "      <th>MSZoning</th>\n",
       "      <th>LotFrontage</th>\n",
       "      <th>LotArea</th>\n",
       "      <th>Street</th>\n",
       "      <th>LotShape</th>\n",
       "      <th>LandContour</th>\n",
       "      <th>Utilities</th>\n",
       "      <th>LotConfig</th>\n",
       "      <th>LandSlope</th>\n",
       "      <th>...</th>\n",
       "      <th>WoodDeckSF</th>\n",
       "      <th>OpenPorchSF</th>\n",
       "      <th>EnclosedPorch</th>\n",
       "      <th>3SsnPorch</th>\n",
       "      <th>ScreenPorch</th>\n",
       "      <th>PoolArea</th>\n",
       "      <th>MiscVal</th>\n",
       "      <th>MoSold</th>\n",
       "      <th>YrSold</th>\n",
       "      <th>SalePrice</th>\n",
       "    </tr>\n",
       "  </thead>\n",
       "  <tbody>\n",
       "    <tr>\n",
       "      <th>0</th>\n",
       "      <td>60</td>\n",
       "      <td>RL</td>\n",
       "      <td>65.0</td>\n",
       "      <td>8450</td>\n",
       "      <td>Pave</td>\n",
       "      <td>Reg</td>\n",
       "      <td>Lvl</td>\n",
       "      <td>AllPub</td>\n",
       "      <td>Inside</td>\n",
       "      <td>Gtl</td>\n",
       "      <td>...</td>\n",
       "      <td>0</td>\n",
       "      <td>61</td>\n",
       "      <td>0</td>\n",
       "      <td>0</td>\n",
       "      <td>0</td>\n",
       "      <td>0</td>\n",
       "      <td>0</td>\n",
       "      <td>2</td>\n",
       "      <td>2008</td>\n",
       "      <td>208500</td>\n",
       "    </tr>\n",
       "    <tr>\n",
       "      <th>1</th>\n",
       "      <td>20</td>\n",
       "      <td>RL</td>\n",
       "      <td>80.0</td>\n",
       "      <td>9600</td>\n",
       "      <td>Pave</td>\n",
       "      <td>Reg</td>\n",
       "      <td>Lvl</td>\n",
       "      <td>AllPub</td>\n",
       "      <td>FR2</td>\n",
       "      <td>Gtl</td>\n",
       "      <td>...</td>\n",
       "      <td>298</td>\n",
       "      <td>0</td>\n",
       "      <td>0</td>\n",
       "      <td>0</td>\n",
       "      <td>0</td>\n",
       "      <td>0</td>\n",
       "      <td>0</td>\n",
       "      <td>5</td>\n",
       "      <td>2007</td>\n",
       "      <td>181500</td>\n",
       "    </tr>\n",
       "    <tr>\n",
       "      <th>2</th>\n",
       "      <td>60</td>\n",
       "      <td>RL</td>\n",
       "      <td>68.0</td>\n",
       "      <td>11250</td>\n",
       "      <td>Pave</td>\n",
       "      <td>IR1</td>\n",
       "      <td>Lvl</td>\n",
       "      <td>AllPub</td>\n",
       "      <td>Inside</td>\n",
       "      <td>Gtl</td>\n",
       "      <td>...</td>\n",
       "      <td>0</td>\n",
       "      <td>42</td>\n",
       "      <td>0</td>\n",
       "      <td>0</td>\n",
       "      <td>0</td>\n",
       "      <td>0</td>\n",
       "      <td>0</td>\n",
       "      <td>9</td>\n",
       "      <td>2008</td>\n",
       "      <td>223500</td>\n",
       "    </tr>\n",
       "    <tr>\n",
       "      <th>3</th>\n",
       "      <td>70</td>\n",
       "      <td>RL</td>\n",
       "      <td>60.0</td>\n",
       "      <td>9550</td>\n",
       "      <td>Pave</td>\n",
       "      <td>IR1</td>\n",
       "      <td>Lvl</td>\n",
       "      <td>AllPub</td>\n",
       "      <td>Corner</td>\n",
       "      <td>Gtl</td>\n",
       "      <td>...</td>\n",
       "      <td>0</td>\n",
       "      <td>35</td>\n",
       "      <td>272</td>\n",
       "      <td>0</td>\n",
       "      <td>0</td>\n",
       "      <td>0</td>\n",
       "      <td>0</td>\n",
       "      <td>2</td>\n",
       "      <td>2006</td>\n",
       "      <td>140000</td>\n",
       "    </tr>\n",
       "    <tr>\n",
       "      <th>4</th>\n",
       "      <td>60</td>\n",
       "      <td>RL</td>\n",
       "      <td>84.0</td>\n",
       "      <td>14260</td>\n",
       "      <td>Pave</td>\n",
       "      <td>IR1</td>\n",
       "      <td>Lvl</td>\n",
       "      <td>AllPub</td>\n",
       "      <td>FR2</td>\n",
       "      <td>Gtl</td>\n",
       "      <td>...</td>\n",
       "      <td>192</td>\n",
       "      <td>84</td>\n",
       "      <td>0</td>\n",
       "      <td>0</td>\n",
       "      <td>0</td>\n",
       "      <td>0</td>\n",
       "      <td>0</td>\n",
       "      <td>12</td>\n",
       "      <td>2008</td>\n",
       "      <td>250000</td>\n",
       "    </tr>\n",
       "  </tbody>\n",
       "</table>\n",
       "<p>5 rows × 68 columns</p>\n",
       "</div>"
      ],
      "text/plain": [
       "   MSSubClass MSZoning  LotFrontage  LotArea Street LotShape LandContour  \\\n",
       "0          60       RL         65.0     8450   Pave      Reg         Lvl   \n",
       "1          20       RL         80.0     9600   Pave      Reg         Lvl   \n",
       "2          60       RL         68.0    11250   Pave      IR1         Lvl   \n",
       "3          70       RL         60.0     9550   Pave      IR1         Lvl   \n",
       "4          60       RL         84.0    14260   Pave      IR1         Lvl   \n",
       "\n",
       "  Utilities LotConfig LandSlope  ... WoodDeckSF OpenPorchSF EnclosedPorch  \\\n",
       "0    AllPub    Inside       Gtl  ...          0          61             0   \n",
       "1    AllPub       FR2       Gtl  ...        298           0             0   \n",
       "2    AllPub    Inside       Gtl  ...          0          42             0   \n",
       "3    AllPub    Corner       Gtl  ...          0          35           272   \n",
       "4    AllPub       FR2       Gtl  ...        192          84             0   \n",
       "\n",
       "   3SsnPorch  ScreenPorch  PoolArea MiscVal MoSold YrSold  SalePrice  \n",
       "0          0            0         0       0      2   2008     208500  \n",
       "1          0            0         0       0      5   2007     181500  \n",
       "2          0            0         0       0      9   2008     223500  \n",
       "3          0            0         0       0      2   2006     140000  \n",
       "4          0            0         0       0     12   2008     250000  \n",
       "\n",
       "[5 rows x 68 columns]"
      ]
     },
     "execution_count": 21,
     "metadata": {},
     "output_type": "execute_result"
    }
   ],
   "source": [
    "df_train.head(5)"
   ]
  },
  {
   "cell_type": "markdown",
   "id": "bff17a71",
   "metadata": {
    "papermill": {
     "duration": 0.022619,
     "end_time": "2022-09-30T13:12:55.869685",
     "exception": false,
     "start_time": "2022-09-30T13:12:55.847066",
     "status": "completed"
    },
    "tags": []
   },
   "source": [
    "# Procurando e deletando outliers \n",
    "No gráfico de correlação vi que algumas colunas eram muito relacionadas a SalePrice então agora devo melhorar essa relação eliminando essas outliers que vão causar anomalias nos resultados. Vou usar um gráfico pois existem muitas linhas e colunas no dataframe, então só olhando para a tabela fica impossível de encontrar quais são os dados que destoam do geral."
   ]
  },
  {
   "cell_type": "code",
   "execution_count": 22,
   "id": "b50d7792",
   "metadata": {
    "execution": {
     "iopub.execute_input": "2022-09-30T13:12:55.916000Z",
     "iopub.status.busy": "2022-09-30T13:12:55.915033Z",
     "iopub.status.idle": "2022-09-30T13:12:56.133492Z",
     "shell.execute_reply": "2022-09-30T13:12:56.132024Z"
    },
    "papermill": {
     "duration": 0.245057,
     "end_time": "2022-09-30T13:12:56.136836",
     "exception": false,
     "start_time": "2022-09-30T13:12:55.891779",
     "status": "completed"
    },
    "tags": []
   },
   "outputs": [
    {
     "data": {
      "image/png": "[encoded data removed]",
      "text/plain": [
       "<Figure size 432x288 with 1 Axes>"
      ]
     },
     "metadata": {
      "needs_background": "light"
     },
     "output_type": "display_data"
    }
   ],
   "source": [
    "fig, ax = plt.subplots()\n",
    "ax.scatter(x = df_train['GrLivArea'], y = df_train['SalePrice'])\n",
    "plt.ylabel('SalePrice', fontsize=13)\n",
    "plt.xlabel('GrLivArea', fontsize=13)\n",
    "plt.show()"
   ]
  },
  {
   "cell_type": "markdown",
   "id": "84767736",
   "metadata": {
    "papermill": {
     "duration": 0.022052,
     "end_time": "2022-09-30T13:12:56.183115",
     "exception": false,
     "start_time": "2022-09-30T13:12:56.161063",
     "status": "completed"
    },
    "tags": []
   },
   "source": [
    "No canto direito existem dois outliers GrLivArea extremamente grandes que são de baixo preço, então seram excluidos para não atrapalharem o treinamento."
   ]
  },
  {
   "cell_type": "code",
   "execution_count": 23,
   "id": "2f1fcc57",
   "metadata": {
    "execution": {
     "iopub.execute_input": "2022-09-30T13:12:56.230653Z",
     "iopub.status.busy": "2022-09-30T13:12:56.230232Z",
     "iopub.status.idle": "2022-09-30T13:12:56.438773Z",
     "shell.execute_reply": "2022-09-30T13:12:56.437770Z"
    },
    "papermill": {
     "duration": 0.236276,
     "end_time": "2022-09-30T13:12:56.442052",
     "exception": false,
     "start_time": "2022-09-30T13:12:56.205776",
     "status": "completed"
    },
    "tags": []
   },
   "outputs": [
    {
     "data": {
      "image/png": "[encoded data removed]",
      "text/plain": [
       "<Figure size 432x288 with 1 Axes>"
      ]
     },
     "metadata": {
      "needs_background": "light"
     },
     "output_type": "display_data"
    }
   ],
   "source": [
    "df_train = df_train.drop(df_train[(df_train['GrLivArea']>4000) & (df_train['SalePrice']<300000)].index)\n",
    "fig, ax = plt.subplots()\n",
    "ax.scatter(df_train['GrLivArea'], df_train['SalePrice'])\n",
    "plt.ylabel('SalePrice', fontsize=13)\n",
    "plt.xlabel('GrLivArea', fontsize=13)\n",
    "plt.show()"
   ]
  },
  {
   "cell_type": "code",
   "execution_count": 24,
   "id": "097d6624",
   "metadata": {
    "execution": {
     "iopub.execute_input": "2022-09-30T13:12:56.493593Z",
     "iopub.status.busy": "2022-09-30T13:12:56.492936Z",
     "iopub.status.idle": "2022-09-30T13:12:56.700276Z",
     "shell.execute_reply": "2022-09-30T13:12:56.698945Z"
    },
    "papermill": {
     "duration": 0.237154,
     "end_time": "2022-09-30T13:12:56.702975",
     "exception": false,
     "start_time": "2022-09-30T13:12:56.465821",
     "status": "completed"
    },
    "tags": []
   },
   "outputs": [
    {
     "data": {
      "image/png": "[encoded data removed]",
      "text/plain": [
       "<Figure size 432x288 with 1 Axes>"
      ]
     },
     "metadata": {
      "needs_background": "light"
     },
     "output_type": "display_data"
    }
   ],
   "source": [
    "fig, ax = plt.subplots()\n",
    "ax.scatter(x = df_train['LotArea'], y = df_train['SalePrice'])\n",
    "plt.ylabel('SalePrice', fontsize=13)\n",
    "plt.xlabel('LotArea', fontsize=13)\n",
    "plt.show()"
   ]
  },
  {
   "cell_type": "markdown",
   "id": "592fa01f",
   "metadata": {
    "papermill": {
     "duration": 0.022911,
     "end_time": "2022-09-30T13:12:56.748855",
     "exception": false,
     "start_time": "2022-09-30T13:12:56.725944",
     "status": "completed"
    },
    "tags": []
   },
   "source": [
    "No canto direito existem dois outliers LotArea extremamente grandes que são de baixo preço, então seram excluidos para não atrapalharem o treinamento."
   ]
  },
  {
   "cell_type": "code",
   "execution_count": 25,
   "id": "d98c1bf0",
   "metadata": {
    "execution": {
     "iopub.execute_input": "2022-09-30T13:12:56.796999Z",
     "iopub.status.busy": "2022-09-30T13:12:56.796370Z",
     "iopub.status.idle": "2022-09-30T13:12:57.021683Z",
     "shell.execute_reply": "2022-09-30T13:12:57.020370Z"
    },
    "papermill": {
     "duration": 0.252528,
     "end_time": "2022-09-30T13:12:57.024418",
     "exception": false,
     "start_time": "2022-09-30T13:12:56.771890",
     "status": "completed"
    },
    "tags": []
   },
   "outputs": [
    {
     "data": {
      "image/png": "[encoded data removed]",
      "text/plain": [
       "<Figure size 432x288 with 1 Axes>"
      ]
     },
     "metadata": {
      "needs_background": "light"
     },
     "output_type": "display_data"
    }
   ],
   "source": [
    "df_train = df_train.drop(df_train[(df_train['LotArea']>100000) & (df_train['SalePrice']<400000)].index)\n",
    "fig, ax = plt.subplots()\n",
    "ax.scatter(df_train['LotArea'], df_train['SalePrice'])\n",
    "plt.ylabel('SalePrice', fontsize=13)\n",
    "plt.xlabel('LotArea', fontsize=13)\n",
    "plt.show()"
   ]
  },
  {
   "cell_type": "markdown",
   "id": "1fa18e8c",
   "metadata": {
    "papermill": {
     "duration": 0.0227,
     "end_time": "2022-09-30T13:12:57.071912",
     "exception": false,
     "start_time": "2022-09-30T13:12:57.049212",
     "status": "completed"
    },
    "tags": []
   },
   "source": [
    "# Criando features \n",
    "\n",
    "Como os dados relacionados à área são muito importantes para determinar os preços das casas (todos os dados relacionados à área tem forte relação com SalePrice, isso foi visto no gráfico), vou criar mais algumas colunas como a TotalSF que é a área total do porão, áreas do primeiro e segundo andar de cada casa e Total_Home que é a soma das colunas Overall, se tornando a coluna que resume a qualidade geral da casa."
   ]
  },
  {
   "cell_type": "code",
   "execution_count": 26,
   "id": "d929f1a7",
   "metadata": {
    "execution": {
     "iopub.execute_input": "2022-09-30T13:12:57.119845Z",
     "iopub.status.busy": "2022-09-30T13:12:57.119024Z",
     "iopub.status.idle": "2022-09-30T13:12:57.125159Z",
     "shell.execute_reply": "2022-09-30T13:12:57.124247Z"
    },
    "papermill": {
     "duration": 0.032854,
     "end_time": "2022-09-30T13:12:57.127516",
     "exception": false,
     "start_time": "2022-09-30T13:12:57.094662",
     "status": "completed"
    },
    "tags": []
   },
   "outputs": [],
   "source": [
    "df_train['TotalSF'] = df_train['TotalBsmtSF'] + df_train['1stFlrSF'] + df_train['2ndFlrSF']"
   ]
  },
  {
   "cell_type": "code",
   "execution_count": 27,
   "id": "d18aeb16",
   "metadata": {
    "execution": {
     "iopub.execute_input": "2022-09-30T13:12:57.176706Z",
     "iopub.status.busy": "2022-09-30T13:12:57.175969Z",
     "iopub.status.idle": "2022-09-30T13:12:57.181703Z",
     "shell.execute_reply": "2022-09-30T13:12:57.180845Z"
    },
    "papermill": {
     "duration": 0.032466,
     "end_time": "2022-09-30T13:12:57.183913",
     "exception": false,
     "start_time": "2022-09-30T13:12:57.151447",
     "status": "completed"
    },
    "tags": []
   },
   "outputs": [],
   "source": [
    "df_train['Total_Home'] = df_train['OverallQual'] + df_train['OverallCond']"
   ]
  },
  {
   "cell_type": "markdown",
   "id": "427e685a",
   "metadata": {
    "papermill": {
     "duration": 0.023274,
     "end_time": "2022-09-30T13:12:57.230070",
     "exception": false,
     "start_time": "2022-09-30T13:12:57.206796",
     "status": "completed"
    },
    "tags": []
   },
   "source": [
    "# Codificação das features categoricas\n",
    "Farei a codificação porque as categoricas não podem ser utilizadas em forma de texto, uma vez que os algoritmos compreendem apenas valores numéricos. Também não podemos simplesmente atribuir um valor numérico para cada categoria, uma vez que esse processo, conhecido como ponderação arbitrária, pode criar uma ordenação e pesos para as categorias que não refletem a realidade. Por isso usarei LabelEncoder()."
   ]
  },
  {
   "cell_type": "markdown",
   "id": "ad22e6f3",
   "metadata": {
    "papermill": {
     "duration": 0.022854,
     "end_time": "2022-09-30T13:12:57.277139",
     "exception": false,
     "start_time": "2022-09-30T13:12:57.254285",
     "status": "completed"
    },
    "tags": []
   },
   "source": [
    "# LabelEncoder()\n",
    "Label Encoding consiste em converter as classes categóricas em números que as representam (ex: masculino/feminino são convertidos em 0/1. Vou usalo para converter as variáveis restantes que possuem alguma relação de ordem, as categóricas ordinais."
   ]
  },
  {
   "cell_type": "code",
   "execution_count": 28,
   "id": "bf0ca078",
   "metadata": {
    "execution": {
     "iopub.execute_input": "2022-09-30T13:12:57.325418Z",
     "iopub.status.busy": "2022-09-30T13:12:57.324988Z",
     "iopub.status.idle": "2022-09-30T13:12:57.578907Z",
     "shell.execute_reply": "2022-09-30T13:12:57.577364Z"
    },
    "papermill": {
     "duration": 0.281394,
     "end_time": "2022-09-30T13:12:57.581488",
     "exception": false,
     "start_time": "2022-09-30T13:12:57.300094",
     "status": "completed"
    },
    "tags": []
   },
   "outputs": [
    {
     "name": "stdout",
     "output_type": "stream",
     "text": [
      "Shape df_train: (1454, 70)\n"
     ]
    }
   ],
   "source": [
    "from sklearn.preprocessing import LabelEncoder\n",
    "cat = [coln for coln in df_train.columns if df_train[coln].nunique() < 10 and df_train[coln].dtype == 'object']\n",
    "num = [coln for coln in df_train.columns if df_train[coln].dtype in ['float64', 'int64'] and coln not in ['SalePrice']]\n",
    "features = cat + num\n",
    "# aplicando o LabelEncoder nas categoricas\n",
    "for c in cat:\n",
    "    lbl = LabelEncoder() \n",
    "    lbl.fit(list(df_train[c].values)) \n",
    "    df_train[c] = lbl.transform(list(df_train[c].values))      \n",
    "print('Shape df_train: {}'.format(df_train.shape))"
   ]
  },
  {
   "cell_type": "markdown",
   "id": "0657efef",
   "metadata": {
    "papermill": {
     "duration": 0.02242,
     "end_time": "2022-09-30T13:12:57.627263",
     "exception": false,
     "start_time": "2022-09-30T13:12:57.604843",
     "status": "completed"
    },
    "tags": []
   },
   "source": [
    "Fazendo as mesmas coisas feitas em df_train no df_test."
   ]
  },
  {
   "cell_type": "code",
   "execution_count": 29,
   "id": "cf6cdd81",
   "metadata": {
    "execution": {
     "iopub.execute_input": "2022-09-30T13:12:57.675284Z",
     "iopub.status.busy": "2022-09-30T13:12:57.674865Z",
     "iopub.status.idle": "2022-09-30T13:12:57.705886Z",
     "shell.execute_reply": "2022-09-30T13:12:57.704519Z"
    },
    "papermill": {
     "duration": 0.05786,
     "end_time": "2022-09-30T13:12:57.708292",
     "exception": false,
     "start_time": "2022-09-30T13:12:57.650432",
     "status": "completed"
    },
    "tags": []
   },
   "outputs": [
    {
     "data": {
      "text/html": [
       "<div>\n",
       "<style scoped>\n",
       "    .dataframe tbody tr th:only-of-type {\n",
       "        vertical-align: middle;\n",
       "    }\n",
       "\n",
       "    .dataframe tbody tr th {\n",
       "        vertical-align: top;\n",
       "    }\n",
       "\n",
       "    .dataframe thead th {\n",
       "        text-align: right;\n",
       "    }\n",
       "</style>\n",
       "<table border=\"1\" class=\"dataframe\">\n",
       "  <thead>\n",
       "    <tr style=\"text-align: right;\">\n",
       "      <th></th>\n",
       "      <th>MSSubClass</th>\n",
       "      <th>MSZoning</th>\n",
       "      <th>LotFrontage</th>\n",
       "      <th>LotArea</th>\n",
       "      <th>Street</th>\n",
       "      <th>LotShape</th>\n",
       "      <th>LandContour</th>\n",
       "      <th>Utilities</th>\n",
       "      <th>LotConfig</th>\n",
       "      <th>LandSlope</th>\n",
       "      <th>...</th>\n",
       "      <th>PavedDrive</th>\n",
       "      <th>WoodDeckSF</th>\n",
       "      <th>OpenPorchSF</th>\n",
       "      <th>EnclosedPorch</th>\n",
       "      <th>3SsnPorch</th>\n",
       "      <th>ScreenPorch</th>\n",
       "      <th>PoolArea</th>\n",
       "      <th>MiscVal</th>\n",
       "      <th>MoSold</th>\n",
       "      <th>YrSold</th>\n",
       "    </tr>\n",
       "  </thead>\n",
       "  <tbody>\n",
       "    <tr>\n",
       "      <th>0</th>\n",
       "      <td>20</td>\n",
       "      <td>RH</td>\n",
       "      <td>80.0</td>\n",
       "      <td>11622</td>\n",
       "      <td>Pave</td>\n",
       "      <td>Reg</td>\n",
       "      <td>Lvl</td>\n",
       "      <td>AllPub</td>\n",
       "      <td>Inside</td>\n",
       "      <td>Gtl</td>\n",
       "      <td>...</td>\n",
       "      <td>Y</td>\n",
       "      <td>140</td>\n",
       "      <td>0</td>\n",
       "      <td>0</td>\n",
       "      <td>0</td>\n",
       "      <td>120</td>\n",
       "      <td>0</td>\n",
       "      <td>0</td>\n",
       "      <td>6</td>\n",
       "      <td>2010</td>\n",
       "    </tr>\n",
       "    <tr>\n",
       "      <th>1</th>\n",
       "      <td>20</td>\n",
       "      <td>RL</td>\n",
       "      <td>81.0</td>\n",
       "      <td>14267</td>\n",
       "      <td>Pave</td>\n",
       "      <td>IR1</td>\n",
       "      <td>Lvl</td>\n",
       "      <td>AllPub</td>\n",
       "      <td>Corner</td>\n",
       "      <td>Gtl</td>\n",
       "      <td>...</td>\n",
       "      <td>Y</td>\n",
       "      <td>393</td>\n",
       "      <td>36</td>\n",
       "      <td>0</td>\n",
       "      <td>0</td>\n",
       "      <td>0</td>\n",
       "      <td>0</td>\n",
       "      <td>12500</td>\n",
       "      <td>6</td>\n",
       "      <td>2010</td>\n",
       "    </tr>\n",
       "    <tr>\n",
       "      <th>2</th>\n",
       "      <td>60</td>\n",
       "      <td>RL</td>\n",
       "      <td>74.0</td>\n",
       "      <td>13830</td>\n",
       "      <td>Pave</td>\n",
       "      <td>IR1</td>\n",
       "      <td>Lvl</td>\n",
       "      <td>AllPub</td>\n",
       "      <td>Inside</td>\n",
       "      <td>Gtl</td>\n",
       "      <td>...</td>\n",
       "      <td>Y</td>\n",
       "      <td>212</td>\n",
       "      <td>34</td>\n",
       "      <td>0</td>\n",
       "      <td>0</td>\n",
       "      <td>0</td>\n",
       "      <td>0</td>\n",
       "      <td>0</td>\n",
       "      <td>3</td>\n",
       "      <td>2010</td>\n",
       "    </tr>\n",
       "    <tr>\n",
       "      <th>3</th>\n",
       "      <td>60</td>\n",
       "      <td>RL</td>\n",
       "      <td>78.0</td>\n",
       "      <td>9978</td>\n",
       "      <td>Pave</td>\n",
       "      <td>IR1</td>\n",
       "      <td>Lvl</td>\n",
       "      <td>AllPub</td>\n",
       "      <td>Inside</td>\n",
       "      <td>Gtl</td>\n",
       "      <td>...</td>\n",
       "      <td>Y</td>\n",
       "      <td>360</td>\n",
       "      <td>36</td>\n",
       "      <td>0</td>\n",
       "      <td>0</td>\n",
       "      <td>0</td>\n",
       "      <td>0</td>\n",
       "      <td>0</td>\n",
       "      <td>6</td>\n",
       "      <td>2010</td>\n",
       "    </tr>\n",
       "    <tr>\n",
       "      <th>4</th>\n",
       "      <td>120</td>\n",
       "      <td>RL</td>\n",
       "      <td>43.0</td>\n",
       "      <td>5005</td>\n",
       "      <td>Pave</td>\n",
       "      <td>IR1</td>\n",
       "      <td>HLS</td>\n",
       "      <td>AllPub</td>\n",
       "      <td>Inside</td>\n",
       "      <td>Gtl</td>\n",
       "      <td>...</td>\n",
       "      <td>Y</td>\n",
       "      <td>0</td>\n",
       "      <td>82</td>\n",
       "      <td>0</td>\n",
       "      <td>0</td>\n",
       "      <td>144</td>\n",
       "      <td>0</td>\n",
       "      <td>0</td>\n",
       "      <td>1</td>\n",
       "      <td>2010</td>\n",
       "    </tr>\n",
       "    <tr>\n",
       "      <th>...</th>\n",
       "      <td>...</td>\n",
       "      <td>...</td>\n",
       "      <td>...</td>\n",
       "      <td>...</td>\n",
       "      <td>...</td>\n",
       "      <td>...</td>\n",
       "      <td>...</td>\n",
       "      <td>...</td>\n",
       "      <td>...</td>\n",
       "      <td>...</td>\n",
       "      <td>...</td>\n",
       "      <td>...</td>\n",
       "      <td>...</td>\n",
       "      <td>...</td>\n",
       "      <td>...</td>\n",
       "      <td>...</td>\n",
       "      <td>...</td>\n",
       "      <td>...</td>\n",
       "      <td>...</td>\n",
       "      <td>...</td>\n",
       "      <td>...</td>\n",
       "    </tr>\n",
       "    <tr>\n",
       "      <th>1454</th>\n",
       "      <td>160</td>\n",
       "      <td>RM</td>\n",
       "      <td>21.0</td>\n",
       "      <td>1936</td>\n",
       "      <td>Pave</td>\n",
       "      <td>Reg</td>\n",
       "      <td>Lvl</td>\n",
       "      <td>AllPub</td>\n",
       "      <td>Inside</td>\n",
       "      <td>Gtl</td>\n",
       "      <td>...</td>\n",
       "      <td>Y</td>\n",
       "      <td>0</td>\n",
       "      <td>0</td>\n",
       "      <td>0</td>\n",
       "      <td>0</td>\n",
       "      <td>0</td>\n",
       "      <td>0</td>\n",
       "      <td>0</td>\n",
       "      <td>6</td>\n",
       "      <td>2006</td>\n",
       "    </tr>\n",
       "    <tr>\n",
       "      <th>1455</th>\n",
       "      <td>160</td>\n",
       "      <td>RM</td>\n",
       "      <td>21.0</td>\n",
       "      <td>1894</td>\n",
       "      <td>Pave</td>\n",
       "      <td>Reg</td>\n",
       "      <td>Lvl</td>\n",
       "      <td>AllPub</td>\n",
       "      <td>Inside</td>\n",
       "      <td>Gtl</td>\n",
       "      <td>...</td>\n",
       "      <td>Y</td>\n",
       "      <td>0</td>\n",
       "      <td>24</td>\n",
       "      <td>0</td>\n",
       "      <td>0</td>\n",
       "      <td>0</td>\n",
       "      <td>0</td>\n",
       "      <td>0</td>\n",
       "      <td>4</td>\n",
       "      <td>2006</td>\n",
       "    </tr>\n",
       "    <tr>\n",
       "      <th>1456</th>\n",
       "      <td>20</td>\n",
       "      <td>RL</td>\n",
       "      <td>160.0</td>\n",
       "      <td>20000</td>\n",
       "      <td>Pave</td>\n",
       "      <td>Reg</td>\n",
       "      <td>Lvl</td>\n",
       "      <td>AllPub</td>\n",
       "      <td>Inside</td>\n",
       "      <td>Gtl</td>\n",
       "      <td>...</td>\n",
       "      <td>Y</td>\n",
       "      <td>474</td>\n",
       "      <td>0</td>\n",
       "      <td>0</td>\n",
       "      <td>0</td>\n",
       "      <td>0</td>\n",
       "      <td>0</td>\n",
       "      <td>0</td>\n",
       "      <td>9</td>\n",
       "      <td>2006</td>\n",
       "    </tr>\n",
       "    <tr>\n",
       "      <th>1457</th>\n",
       "      <td>85</td>\n",
       "      <td>RL</td>\n",
       "      <td>62.0</td>\n",
       "      <td>10441</td>\n",
       "      <td>Pave</td>\n",
       "      <td>Reg</td>\n",
       "      <td>Lvl</td>\n",
       "      <td>AllPub</td>\n",
       "      <td>Inside</td>\n",
       "      <td>Gtl</td>\n",
       "      <td>...</td>\n",
       "      <td>Y</td>\n",
       "      <td>80</td>\n",
       "      <td>32</td>\n",
       "      <td>0</td>\n",
       "      <td>0</td>\n",
       "      <td>0</td>\n",
       "      <td>0</td>\n",
       "      <td>700</td>\n",
       "      <td>7</td>\n",
       "      <td>2006</td>\n",
       "    </tr>\n",
       "    <tr>\n",
       "      <th>1458</th>\n",
       "      <td>60</td>\n",
       "      <td>RL</td>\n",
       "      <td>74.0</td>\n",
       "      <td>9627</td>\n",
       "      <td>Pave</td>\n",
       "      <td>Reg</td>\n",
       "      <td>Lvl</td>\n",
       "      <td>AllPub</td>\n",
       "      <td>Inside</td>\n",
       "      <td>Mod</td>\n",
       "      <td>...</td>\n",
       "      <td>Y</td>\n",
       "      <td>190</td>\n",
       "      <td>48</td>\n",
       "      <td>0</td>\n",
       "      <td>0</td>\n",
       "      <td>0</td>\n",
       "      <td>0</td>\n",
       "      <td>0</td>\n",
       "      <td>11</td>\n",
       "      <td>2006</td>\n",
       "    </tr>\n",
       "  </tbody>\n",
       "</table>\n",
       "<p>1459 rows × 67 columns</p>\n",
       "</div>"
      ],
      "text/plain": [
       "      MSSubClass MSZoning  LotFrontage  LotArea Street LotShape LandContour  \\\n",
       "0             20       RH         80.0    11622   Pave      Reg         Lvl   \n",
       "1             20       RL         81.0    14267   Pave      IR1         Lvl   \n",
       "2             60       RL         74.0    13830   Pave      IR1         Lvl   \n",
       "3             60       RL         78.0     9978   Pave      IR1         Lvl   \n",
       "4            120       RL         43.0     5005   Pave      IR1         HLS   \n",
       "...          ...      ...          ...      ...    ...      ...         ...   \n",
       "1454         160       RM         21.0     1936   Pave      Reg         Lvl   \n",
       "1455         160       RM         21.0     1894   Pave      Reg         Lvl   \n",
       "1456          20       RL        160.0    20000   Pave      Reg         Lvl   \n",
       "1457          85       RL         62.0    10441   Pave      Reg         Lvl   \n",
       "1458          60       RL         74.0     9627   Pave      Reg         Lvl   \n",
       "\n",
       "     Utilities LotConfig LandSlope  ... PavedDrive WoodDeckSF OpenPorchSF  \\\n",
       "0       AllPub    Inside       Gtl  ...          Y        140           0   \n",
       "1       AllPub    Corner       Gtl  ...          Y        393          36   \n",
       "2       AllPub    Inside       Gtl  ...          Y        212          34   \n",
       "3       AllPub    Inside       Gtl  ...          Y        360          36   \n",
       "4       AllPub    Inside       Gtl  ...          Y          0          82   \n",
       "...        ...       ...       ...  ...        ...        ...         ...   \n",
       "1454    AllPub    Inside       Gtl  ...          Y          0           0   \n",
       "1455    AllPub    Inside       Gtl  ...          Y          0          24   \n",
       "1456    AllPub    Inside       Gtl  ...          Y        474           0   \n",
       "1457    AllPub    Inside       Gtl  ...          Y         80          32   \n",
       "1458    AllPub    Inside       Mod  ...          Y        190          48   \n",
       "\n",
       "      EnclosedPorch  3SsnPorch  ScreenPorch PoolArea MiscVal MoSold  YrSold  \n",
       "0                 0          0          120        0       0      6    2010  \n",
       "1                 0          0            0        0   12500      6    2010  \n",
       "2                 0          0            0        0       0      3    2010  \n",
       "3                 0          0            0        0       0      6    2010  \n",
       "4                 0          0          144        0       0      1    2010  \n",
       "...             ...        ...          ...      ...     ...    ...     ...  \n",
       "1454              0          0            0        0       0      6    2006  \n",
       "1455              0          0            0        0       0      4    2006  \n",
       "1456              0          0            0        0       0      9    2006  \n",
       "1457              0          0            0        0     700      7    2006  \n",
       "1458              0          0            0        0       0     11    2006  \n",
       "\n",
       "[1459 rows x 67 columns]"
      ]
     },
     "execution_count": 29,
     "metadata": {},
     "output_type": "execute_result"
    }
   ],
   "source": [
    "df_test"
   ]
  },
  {
   "cell_type": "code",
   "execution_count": 30,
   "id": "86f9d222",
   "metadata": {
    "execution": {
     "iopub.execute_input": "2022-09-30T13:12:57.758858Z",
     "iopub.status.busy": "2022-09-30T13:12:57.758374Z",
     "iopub.status.idle": "2022-09-30T13:12:57.772947Z",
     "shell.execute_reply": "2022-09-30T13:12:57.771411Z"
    },
    "papermill": {
     "duration": 0.042976,
     "end_time": "2022-09-30T13:12:57.775410",
     "exception": false,
     "start_time": "2022-09-30T13:12:57.732434",
     "status": "completed"
    },
    "tags": []
   },
   "outputs": [
    {
     "data": {
      "text/plain": [
       "0"
      ]
     },
     "execution_count": 30,
     "metadata": {},
     "output_type": "execute_result"
    }
   ],
   "source": [
    "LotFrontage = df_test.LotFrontage.median()\n",
    "df_test.fillna(LotFrontage, inplace=True)\n",
    "df_test.LotFrontage.isnull().sum()"
   ]
  },
  {
   "cell_type": "code",
   "execution_count": 31,
   "id": "7edd08c0",
   "metadata": {
    "execution": {
     "iopub.execute_input": "2022-09-30T13:12:57.825610Z",
     "iopub.status.busy": "2022-09-30T13:12:57.824814Z",
     "iopub.status.idle": "2022-09-30T13:12:57.840895Z",
     "shell.execute_reply": "2022-09-30T13:12:57.839704Z"
    },
    "papermill": {
     "duration": 0.044104,
     "end_time": "2022-09-30T13:12:57.843466",
     "exception": false,
     "start_time": "2022-09-30T13:12:57.799362",
     "status": "completed"
    },
    "tags": []
   },
   "outputs": [
    {
     "data": {
      "text/plain": [
       "0"
      ]
     },
     "execution_count": 31,
     "metadata": {},
     "output_type": "execute_result"
    }
   ],
   "source": [
    "GarageType = df_test['GarageType'].value_counts()[0]\n",
    "df_test.fillna(GarageType, inplace=True)\n",
    "df_test.GarageType.isnull().sum()"
   ]
  },
  {
   "cell_type": "code",
   "execution_count": 32,
   "id": "ed279da3",
   "metadata": {
    "execution": {
     "iopub.execute_input": "2022-09-30T13:12:57.892185Z",
     "iopub.status.busy": "2022-09-30T13:12:57.891795Z",
     "iopub.status.idle": "2022-09-30T13:12:57.906450Z",
     "shell.execute_reply": "2022-09-30T13:12:57.905499Z"
    },
    "papermill": {
     "duration": 0.041882,
     "end_time": "2022-09-30T13:12:57.908894",
     "exception": false,
     "start_time": "2022-09-30T13:12:57.867012",
     "status": "completed"
    },
    "tags": []
   },
   "outputs": [
    {
     "data": {
      "text/plain": [
       "0"
      ]
     },
     "execution_count": 32,
     "metadata": {},
     "output_type": "execute_result"
    }
   ],
   "source": [
    "GarageCond = df_test['GarageCond'].value_counts()[0]\n",
    "df_test.fillna(GarageCond, inplace=True)\n",
    "df_test.GarageCond.isnull().sum()"
   ]
  },
  {
   "cell_type": "code",
   "execution_count": 33,
   "id": "7962edfe",
   "metadata": {
    "execution": {
     "iopub.execute_input": "2022-09-30T13:12:57.960505Z",
     "iopub.status.busy": "2022-09-30T13:12:57.960064Z",
     "iopub.status.idle": "2022-09-30T13:12:57.975390Z",
     "shell.execute_reply": "2022-09-30T13:12:57.974181Z"
    },
    "papermill": {
     "duration": 0.044296,
     "end_time": "2022-09-30T13:12:57.977948",
     "exception": false,
     "start_time": "2022-09-30T13:12:57.933652",
     "status": "completed"
    },
    "tags": []
   },
   "outputs": [
    {
     "data": {
      "text/plain": [
       "0"
      ]
     },
     "execution_count": 33,
     "metadata": {},
     "output_type": "execute_result"
    }
   ],
   "source": [
    "GarageYrBlt = df_test.GarageYrBlt.median()\n",
    "df_test.fillna(GarageYrBlt, inplace=True)\n",
    "df_test.GarageYrBlt.isnull().sum()"
   ]
  },
  {
   "cell_type": "code",
   "execution_count": 34,
   "id": "63228001",
   "metadata": {
    "execution": {
     "iopub.execute_input": "2022-09-30T13:12:58.029067Z",
     "iopub.status.busy": "2022-09-30T13:12:58.028620Z",
     "iopub.status.idle": "2022-09-30T13:12:58.044921Z",
     "shell.execute_reply": "2022-09-30T13:12:58.043708Z"
    },
    "papermill": {
     "duration": 0.045248,
     "end_time": "2022-09-30T13:12:58.047429",
     "exception": false,
     "start_time": "2022-09-30T13:12:58.002181",
     "status": "completed"
    },
    "tags": []
   },
   "outputs": [
    {
     "data": {
      "text/plain": [
       "0"
      ]
     },
     "execution_count": 34,
     "metadata": {},
     "output_type": "execute_result"
    }
   ],
   "source": [
    "GarageFinish = df_test['GarageFinish'].value_counts()[0]\n",
    "df_test.fillna(GarageFinish, inplace=True)\n",
    "df_test.GarageFinish.isnull().sum()"
   ]
  },
  {
   "cell_type": "code",
   "execution_count": 35,
   "id": "8100fcbd",
   "metadata": {
    "execution": {
     "iopub.execute_input": "2022-09-30T13:12:58.099338Z",
     "iopub.status.busy": "2022-09-30T13:12:58.098132Z",
     "iopub.status.idle": "2022-09-30T13:12:58.113413Z",
     "shell.execute_reply": "2022-09-30T13:12:58.112320Z"
    },
    "papermill": {
     "duration": 0.043086,
     "end_time": "2022-09-30T13:12:58.115974",
     "exception": false,
     "start_time": "2022-09-30T13:12:58.072888",
     "status": "completed"
    },
    "tags": []
   },
   "outputs": [
    {
     "data": {
      "text/plain": [
       "0"
      ]
     },
     "execution_count": 35,
     "metadata": {},
     "output_type": "execute_result"
    }
   ],
   "source": [
    "BsmtExposure = df_test['BsmtExposure'].value_counts()[0]\n",
    "df_test.fillna(BsmtExposure, inplace=True)\n",
    "df_test.BsmtExposure.isnull().sum()"
   ]
  },
  {
   "cell_type": "code",
   "execution_count": 36,
   "id": "6e67b0ba",
   "metadata": {
    "execution": {
     "iopub.execute_input": "2022-09-30T13:12:58.167097Z",
     "iopub.status.busy": "2022-09-30T13:12:58.166412Z",
     "iopub.status.idle": "2022-09-30T13:12:58.179973Z",
     "shell.execute_reply": "2022-09-30T13:12:58.178911Z"
    },
    "papermill": {
     "duration": 0.041584,
     "end_time": "2022-09-30T13:12:58.182163",
     "exception": false,
     "start_time": "2022-09-30T13:12:58.140579",
     "status": "completed"
    },
    "tags": []
   },
   "outputs": [
    {
     "data": {
      "text/plain": [
       "0"
      ]
     },
     "execution_count": 36,
     "metadata": {},
     "output_type": "execute_result"
    }
   ],
   "source": [
    "BsmtFinType2 = df_test['BsmtFinType2'].value_counts()[0]\n",
    "df_test.fillna(BsmtFinType2, inplace=True)\n",
    "df_test.BsmtFinType2.isnull().sum()"
   ]
  },
  {
   "cell_type": "code",
   "execution_count": 37,
   "id": "205da34b",
   "metadata": {
    "execution": {
     "iopub.execute_input": "2022-09-30T13:12:58.232509Z",
     "iopub.status.busy": "2022-09-30T13:12:58.231617Z",
     "iopub.status.idle": "2022-09-30T13:12:58.247394Z",
     "shell.execute_reply": "2022-09-30T13:12:58.246306Z"
    },
    "papermill": {
     "duration": 0.043597,
     "end_time": "2022-09-30T13:12:58.249812",
     "exception": false,
     "start_time": "2022-09-30T13:12:58.206215",
     "status": "completed"
    },
    "tags": []
   },
   "outputs": [
    {
     "data": {
      "text/plain": [
       "0"
      ]
     },
     "execution_count": 37,
     "metadata": {},
     "output_type": "execute_result"
    }
   ],
   "source": [
    "BsmtQual = df_test['BsmtQual'].value_counts()[0]\n",
    "df_test.fillna(BsmtQual, inplace=True)\n",
    "df_test.BsmtQual.isnull().sum()"
   ]
  },
  {
   "cell_type": "code",
   "execution_count": 38,
   "id": "01d920cc",
   "metadata": {
    "execution": {
     "iopub.execute_input": "2022-09-30T13:12:58.300127Z",
     "iopub.status.busy": "2022-09-30T13:12:58.299725Z",
     "iopub.status.idle": "2022-09-30T13:12:58.315647Z",
     "shell.execute_reply": "2022-09-30T13:12:58.314703Z"
    },
    "papermill": {
     "duration": 0.043741,
     "end_time": "2022-09-30T13:12:58.317950",
     "exception": false,
     "start_time": "2022-09-30T13:12:58.274209",
     "status": "completed"
    },
    "tags": []
   },
   "outputs": [
    {
     "data": {
      "text/plain": [
       "0"
      ]
     },
     "execution_count": 38,
     "metadata": {},
     "output_type": "execute_result"
    }
   ],
   "source": [
    "BsmtFinType1 = df_test['BsmtFinType1'].value_counts()[0]\n",
    "df_test.fillna(BsmtFinType1, inplace=True)\n",
    "df_test.BsmtFinType1.isnull().sum()"
   ]
  },
  {
   "cell_type": "code",
   "execution_count": 39,
   "id": "41b79fd5",
   "metadata": {
    "execution": {
     "iopub.execute_input": "2022-09-30T13:12:58.369069Z",
     "iopub.status.busy": "2022-09-30T13:12:58.367888Z",
     "iopub.status.idle": "2022-09-30T13:12:58.383096Z",
     "shell.execute_reply": "2022-09-30T13:12:58.382209Z"
    },
    "papermill": {
     "duration": 0.042927,
     "end_time": "2022-09-30T13:12:58.385280",
     "exception": false,
     "start_time": "2022-09-30T13:12:58.342353",
     "status": "completed"
    },
    "tags": []
   },
   "outputs": [
    {
     "data": {
      "text/plain": [
       "0"
      ]
     },
     "execution_count": 39,
     "metadata": {},
     "output_type": "execute_result"
    }
   ],
   "source": [
    "BsmtCond = df_test['BsmtCond'].value_counts()[0]\n",
    "df_test.fillna(BsmtCond, inplace=True)\n",
    "df_test.BsmtCond.isnull().sum()"
   ]
  },
  {
   "cell_type": "code",
   "execution_count": 40,
   "id": "230ee3e7",
   "metadata": {
    "execution": {
     "iopub.execute_input": "2022-09-30T13:12:58.436899Z",
     "iopub.status.busy": "2022-09-30T13:12:58.436403Z",
     "iopub.status.idle": "2022-09-30T13:12:58.451276Z",
     "shell.execute_reply": "2022-09-30T13:12:58.450021Z"
    },
    "papermill": {
     "duration": 0.044167,
     "end_time": "2022-09-30T13:12:58.453821",
     "exception": false,
     "start_time": "2022-09-30T13:12:58.409654",
     "status": "completed"
    },
    "tags": []
   },
   "outputs": [
    {
     "data": {
      "text/plain": [
       "0"
      ]
     },
     "execution_count": 40,
     "metadata": {},
     "output_type": "execute_result"
    }
   ],
   "source": [
    "MasVnrType = df_test['MasVnrType'].value_counts()[0]\n",
    "df_test.fillna(MasVnrType, inplace=True)\n",
    "df_test.MasVnrType.isnull().sum()"
   ]
  },
  {
   "cell_type": "code",
   "execution_count": 41,
   "id": "3480a3fd",
   "metadata": {
    "execution": {
     "iopub.execute_input": "2022-09-30T13:12:58.506737Z",
     "iopub.status.busy": "2022-09-30T13:12:58.506276Z",
     "iopub.status.idle": "2022-09-30T13:12:58.520154Z",
     "shell.execute_reply": "2022-09-30T13:12:58.519163Z"
    },
    "papermill": {
     "duration": 0.043031,
     "end_time": "2022-09-30T13:12:58.522360",
     "exception": false,
     "start_time": "2022-09-30T13:12:58.479329",
     "status": "completed"
    },
    "tags": []
   },
   "outputs": [
    {
     "data": {
      "text/plain": [
       "0"
      ]
     },
     "execution_count": 41,
     "metadata": {},
     "output_type": "execute_result"
    }
   ],
   "source": [
    "MasVnrArea = df_test.MasVnrArea.median()\n",
    "df_test.fillna(MasVnrArea, inplace=True)\n",
    "df_test.MasVnrArea.isnull().sum()"
   ]
  },
  {
   "cell_type": "code",
   "execution_count": 42,
   "id": "7f6b5a18",
   "metadata": {
    "execution": {
     "iopub.execute_input": "2022-09-30T13:12:58.574399Z",
     "iopub.status.busy": "2022-09-30T13:12:58.573453Z",
     "iopub.status.idle": "2022-09-30T13:12:58.587981Z",
     "shell.execute_reply": "2022-09-30T13:12:58.587064Z"
    },
    "papermill": {
     "duration": 0.042995,
     "end_time": "2022-09-30T13:12:58.590296",
     "exception": false,
     "start_time": "2022-09-30T13:12:58.547301",
     "status": "completed"
    },
    "tags": []
   },
   "outputs": [
    {
     "data": {
      "text/plain": [
       "0"
      ]
     },
     "execution_count": 42,
     "metadata": {},
     "output_type": "execute_result"
    }
   ],
   "source": [
    "Electrical = df_test['Electrical'].value_counts()[0]\n",
    "df_test.fillna(Electrical, inplace=True)\n",
    "df_test.Electrical.isnull().sum()"
   ]
  },
  {
   "cell_type": "code",
   "execution_count": 43,
   "id": "5e7d0386",
   "metadata": {
    "execution": {
     "iopub.execute_input": "2022-09-30T13:12:58.643442Z",
     "iopub.status.busy": "2022-09-30T13:12:58.642318Z",
     "iopub.status.idle": "2022-09-30T13:12:58.724379Z",
     "shell.execute_reply": "2022-09-30T13:12:58.722425Z"
    },
    "papermill": {
     "duration": 0.11097,
     "end_time": "2022-09-30T13:12:58.727113",
     "exception": false,
     "start_time": "2022-09-30T13:12:58.616143",
     "status": "completed"
    },
    "tags": []
   },
   "outputs": [
    {
     "name": "stdout",
     "output_type": "stream",
     "text": [
      "Shape df_test: (1459, 67)\n"
     ]
    }
   ],
   "source": [
    "from sklearn.preprocessing import LabelEncoder\n",
    "cat = [coln for coln in df_test.columns if df_test[coln].nunique() < 10 and df_test[coln].dtype == 'object']\n",
    "num = [coln for coln in df_test.columns if df_test[coln].dtype in ['float64', 'int64'] and coln not in ['SalePrice']]\n",
    "features = cat + num\n",
    "# aplicando o LabelEncoder nas categoricas\n",
    "for c in cat:\n",
    "    lbl = LabelEncoder() \n",
    "    lbl.fit(list(df_test[c].values)) \n",
    "    df_test[c] = lbl.transform(list(df_test[c].values))\n",
    "\n",
    "# shape        \n",
    "print('Shape df_test: {}'.format(df_test.shape))"
   ]
  },
  {
   "cell_type": "code",
   "execution_count": 44,
   "id": "c6773492",
   "metadata": {
    "execution": {
     "iopub.execute_input": "2022-09-30T13:12:58.778900Z",
     "iopub.status.busy": "2022-09-30T13:12:58.778503Z",
     "iopub.status.idle": "2022-09-30T13:12:58.786931Z",
     "shell.execute_reply": "2022-09-30T13:12:58.785777Z"
    },
    "papermill": {
     "duration": 0.037193,
     "end_time": "2022-09-30T13:12:58.789523",
     "exception": false,
     "start_time": "2022-09-30T13:12:58.752330",
     "status": "completed"
    },
    "tags": []
   },
   "outputs": [],
   "source": [
    "df_test['TotalSF'] = df_test['TotalBsmtSF'] + df_test['1stFlrSF'] + df_test['2ndFlrSF']\n",
    "df_test['Total_Home'] = df_test['OverallQual'] + df_test['OverallCond']"
   ]
  },
  {
   "cell_type": "code",
   "execution_count": 45,
   "id": "743f2f3d",
   "metadata": {
    "execution": {
     "iopub.execute_input": "2022-09-30T13:12:58.841953Z",
     "iopub.status.busy": "2022-09-30T13:12:58.840918Z",
     "iopub.status.idle": "2022-09-30T13:12:58.863781Z",
     "shell.execute_reply": "2022-09-30T13:12:58.862461Z"
    },
    "papermill": {
     "duration": 0.051601,
     "end_time": "2022-09-30T13:12:58.866179",
     "exception": false,
     "start_time": "2022-09-30T13:12:58.814578",
     "status": "completed"
    },
    "tags": []
   },
   "outputs": [
    {
     "data": {
      "text/html": [
       "<div>\n",
       "<style scoped>\n",
       "    .dataframe tbody tr th:only-of-type {\n",
       "        vertical-align: middle;\n",
       "    }\n",
       "\n",
       "    .dataframe tbody tr th {\n",
       "        vertical-align: top;\n",
       "    }\n",
       "\n",
       "    .dataframe thead th {\n",
       "        text-align: right;\n",
       "    }\n",
       "</style>\n",
       "<table border=\"1\" class=\"dataframe\">\n",
       "  <thead>\n",
       "    <tr style=\"text-align: right;\">\n",
       "      <th></th>\n",
       "      <th>MSSubClass</th>\n",
       "      <th>MSZoning</th>\n",
       "      <th>LotFrontage</th>\n",
       "      <th>LotArea</th>\n",
       "      <th>Street</th>\n",
       "      <th>LotShape</th>\n",
       "      <th>LandContour</th>\n",
       "      <th>Utilities</th>\n",
       "      <th>LotConfig</th>\n",
       "      <th>LandSlope</th>\n",
       "      <th>...</th>\n",
       "      <th>OpenPorchSF</th>\n",
       "      <th>EnclosedPorch</th>\n",
       "      <th>3SsnPorch</th>\n",
       "      <th>ScreenPorch</th>\n",
       "      <th>PoolArea</th>\n",
       "      <th>MiscVal</th>\n",
       "      <th>MoSold</th>\n",
       "      <th>YrSold</th>\n",
       "      <th>TotalSF</th>\n",
       "      <th>Total_Home</th>\n",
       "    </tr>\n",
       "  </thead>\n",
       "  <tbody>\n",
       "    <tr>\n",
       "      <th>0</th>\n",
       "      <td>20</td>\n",
       "      <td>3</td>\n",
       "      <td>80.0</td>\n",
       "      <td>11622</td>\n",
       "      <td>1</td>\n",
       "      <td>3</td>\n",
       "      <td>3</td>\n",
       "      <td>1</td>\n",
       "      <td>4</td>\n",
       "      <td>0</td>\n",
       "      <td>...</td>\n",
       "      <td>0</td>\n",
       "      <td>0</td>\n",
       "      <td>0</td>\n",
       "      <td>120</td>\n",
       "      <td>0</td>\n",
       "      <td>0</td>\n",
       "      <td>6</td>\n",
       "      <td>2010</td>\n",
       "      <td>1778.0</td>\n",
       "      <td>11</td>\n",
       "    </tr>\n",
       "    <tr>\n",
       "      <th>1</th>\n",
       "      <td>20</td>\n",
       "      <td>4</td>\n",
       "      <td>81.0</td>\n",
       "      <td>14267</td>\n",
       "      <td>1</td>\n",
       "      <td>0</td>\n",
       "      <td>3</td>\n",
       "      <td>1</td>\n",
       "      <td>0</td>\n",
       "      <td>0</td>\n",
       "      <td>...</td>\n",
       "      <td>36</td>\n",
       "      <td>0</td>\n",
       "      <td>0</td>\n",
       "      <td>0</td>\n",
       "      <td>0</td>\n",
       "      <td>12500</td>\n",
       "      <td>6</td>\n",
       "      <td>2010</td>\n",
       "      <td>2658.0</td>\n",
       "      <td>12</td>\n",
       "    </tr>\n",
       "    <tr>\n",
       "      <th>2</th>\n",
       "      <td>60</td>\n",
       "      <td>4</td>\n",
       "      <td>74.0</td>\n",
       "      <td>13830</td>\n",
       "      <td>1</td>\n",
       "      <td>0</td>\n",
       "      <td>3</td>\n",
       "      <td>1</td>\n",
       "      <td>4</td>\n",
       "      <td>0</td>\n",
       "      <td>...</td>\n",
       "      <td>34</td>\n",
       "      <td>0</td>\n",
       "      <td>0</td>\n",
       "      <td>0</td>\n",
       "      <td>0</td>\n",
       "      <td>0</td>\n",
       "      <td>3</td>\n",
       "      <td>2010</td>\n",
       "      <td>2557.0</td>\n",
       "      <td>10</td>\n",
       "    </tr>\n",
       "    <tr>\n",
       "      <th>3</th>\n",
       "      <td>60</td>\n",
       "      <td>4</td>\n",
       "      <td>78.0</td>\n",
       "      <td>9978</td>\n",
       "      <td>1</td>\n",
       "      <td>0</td>\n",
       "      <td>3</td>\n",
       "      <td>1</td>\n",
       "      <td>4</td>\n",
       "      <td>0</td>\n",
       "      <td>...</td>\n",
       "      <td>36</td>\n",
       "      <td>0</td>\n",
       "      <td>0</td>\n",
       "      <td>0</td>\n",
       "      <td>0</td>\n",
       "      <td>0</td>\n",
       "      <td>6</td>\n",
       "      <td>2010</td>\n",
       "      <td>2530.0</td>\n",
       "      <td>12</td>\n",
       "    </tr>\n",
       "    <tr>\n",
       "      <th>4</th>\n",
       "      <td>120</td>\n",
       "      <td>4</td>\n",
       "      <td>43.0</td>\n",
       "      <td>5005</td>\n",
       "      <td>1</td>\n",
       "      <td>0</td>\n",
       "      <td>1</td>\n",
       "      <td>1</td>\n",
       "      <td>4</td>\n",
       "      <td>0</td>\n",
       "      <td>...</td>\n",
       "      <td>82</td>\n",
       "      <td>0</td>\n",
       "      <td>0</td>\n",
       "      <td>144</td>\n",
       "      <td>0</td>\n",
       "      <td>0</td>\n",
       "      <td>1</td>\n",
       "      <td>2010</td>\n",
       "      <td>2560.0</td>\n",
       "      <td>13</td>\n",
       "    </tr>\n",
       "  </tbody>\n",
       "</table>\n",
       "<p>5 rows × 69 columns</p>\n",
       "</div>"
      ],
      "text/plain": [
       "   MSSubClass  MSZoning  LotFrontage  LotArea  Street  LotShape  LandContour  \\\n",
       "0          20         3         80.0    11622       1         3            3   \n",
       "1          20         4         81.0    14267       1         0            3   \n",
       "2          60         4         74.0    13830       1         0            3   \n",
       "3          60         4         78.0     9978       1         0            3   \n",
       "4         120         4         43.0     5005       1         0            1   \n",
       "\n",
       "   Utilities  LotConfig  LandSlope  ... OpenPorchSF  EnclosedPorch  3SsnPorch  \\\n",
       "0          1          4          0  ...           0              0          0   \n",
       "1          1          0          0  ...          36              0          0   \n",
       "2          1          4          0  ...          34              0          0   \n",
       "3          1          4          0  ...          36              0          0   \n",
       "4          1          4          0  ...          82              0          0   \n",
       "\n",
       "   ScreenPorch  PoolArea  MiscVal  MoSold  YrSold  TotalSF  Total_Home  \n",
       "0          120         0        0       6    2010   1778.0          11  \n",
       "1            0         0    12500       6    2010   2658.0          12  \n",
       "2            0         0        0       3    2010   2557.0          10  \n",
       "3            0         0        0       6    2010   2530.0          12  \n",
       "4          144         0        0       1    2010   2560.0          13  \n",
       "\n",
       "[5 rows x 69 columns]"
      ]
     },
     "execution_count": 45,
     "metadata": {},
     "output_type": "execute_result"
    }
   ],
   "source": [
    "df_test.head(5)"
   ]
  },
  {
   "cell_type": "markdown",
   "id": "76522a56",
   "metadata": {
    "papermill": {
     "duration": 0.02445,
     "end_time": "2022-09-30T13:12:58.915479",
     "exception": false,
     "start_time": "2022-09-30T13:12:58.891029",
     "status": "completed"
    },
    "tags": []
   },
   "source": [
    "Normalização;\n",
    "> **Box Cox:**\n",
    " Formalmente, uma transformação de Box cox é definida como uma forma de transformar variáveis dependentes não normais em nossos dados em uma forma normal, por meio da qual podemos executar muito mais testes do que poderíamos."
   ]
  },
  {
   "cell_type": "markdown",
   "id": "e3064ff8",
   "metadata": {
    "papermill": {
     "duration": 0.025036,
     "end_time": "2022-09-30T13:12:58.967108",
     "exception": false,
     "start_time": "2022-09-30T13:12:58.942072",
     "status": "completed"
    },
    "tags": []
   },
   "source": [
    "> ****Por que usei?:**** Porque os modelos (lineares) amam dados normalmente distribuídos, precisei ver se minhas features númericas eram assimétricas, e elas eram assimétricas, então transformei essas variaveis e as tornei mais normalmente distribuídas.\n"
   ]
  },
  {
   "cell_type": "markdown",
   "id": "4d80e3a1",
   "metadata": {
    "papermill": {
     "duration": 0.02567,
     "end_time": "2022-09-30T13:12:59.018425",
     "exception": false,
     "start_time": "2022-09-30T13:12:58.992755",
     "status": "completed"
    },
    "tags": []
   },
   "source": [
    "O Skew das features númericas"
   ]
  },
  {
   "cell_type": "code",
   "execution_count": 46,
   "id": "830c36e4",
   "metadata": {
    "execution": {
     "iopub.execute_input": "2022-09-30T13:12:59.073478Z",
     "iopub.status.busy": "2022-09-30T13:12:59.072853Z",
     "iopub.status.idle": "2022-09-30T13:12:59.102843Z",
     "shell.execute_reply": "2022-09-30T13:12:59.101509Z"
    },
    "papermill": {
     "duration": 0.060632,
     "end_time": "2022-09-30T13:12:59.105584",
     "exception": false,
     "start_time": "2022-09-30T13:12:59.044952",
     "status": "completed"
    },
    "tags": []
   },
   "outputs": [
    {
     "name": "stdout",
     "output_type": "stream",
     "text": [
      "\n",
      "Skew em features numericas: \n",
      "\n"
     ]
    },
    {
     "data": {
      "text/html": [
       "<div>\n",
       "<style scoped>\n",
       "    .dataframe tbody tr th:only-of-type {\n",
       "        vertical-align: middle;\n",
       "    }\n",
       "\n",
       "    .dataframe tbody tr th {\n",
       "        vertical-align: top;\n",
       "    }\n",
       "\n",
       "    .dataframe thead th {\n",
       "        text-align: right;\n",
       "    }\n",
       "</style>\n",
       "<table border=\"1\" class=\"dataframe\">\n",
       "  <thead>\n",
       "    <tr style=\"text-align: right;\">\n",
       "      <th></th>\n",
       "      <th>Skew</th>\n",
       "    </tr>\n",
       "  </thead>\n",
       "  <tbody>\n",
       "    <tr>\n",
       "      <th>MiscVal</th>\n",
       "      <td>24.469277</td>\n",
       "    </tr>\n",
       "    <tr>\n",
       "      <th>PoolArea</th>\n",
       "      <td>15.910404</td>\n",
       "    </tr>\n",
       "    <tr>\n",
       "      <th>3SsnPorch</th>\n",
       "      <td>10.272009</td>\n",
       "    </tr>\n",
       "    <tr>\n",
       "      <th>LowQualFinSF</th>\n",
       "      <td>8.982890</td>\n",
       "    </tr>\n",
       "    <tr>\n",
       "      <th>KitchenAbvGr</th>\n",
       "      <td>4.473226</td>\n",
       "    </tr>\n",
       "    <tr>\n",
       "      <th>BsmtFinSF2</th>\n",
       "      <td>4.279205</td>\n",
       "    </tr>\n",
       "    <tr>\n",
       "      <th>BsmtHalfBath</th>\n",
       "      <td>4.121397</td>\n",
       "    </tr>\n",
       "    <tr>\n",
       "      <th>ScreenPorch</th>\n",
       "      <td>4.108107</td>\n",
       "    </tr>\n",
       "    <tr>\n",
       "      <th>LotArea</th>\n",
       "      <td>3.932476</td>\n",
       "    </tr>\n",
       "    <tr>\n",
       "      <th>EnclosedPorch</th>\n",
       "      <td>3.078561</td>\n",
       "    </tr>\n",
       "  </tbody>\n",
       "</table>\n",
       "</div>"
      ],
      "text/plain": [
       "                    Skew\n",
       "MiscVal        24.469277\n",
       "PoolArea       15.910404\n",
       "3SsnPorch      10.272009\n",
       "LowQualFinSF    8.982890\n",
       "KitchenAbvGr    4.473226\n",
       "BsmtFinSF2      4.279205\n",
       "BsmtHalfBath    4.121397\n",
       "ScreenPorch     4.108107\n",
       "LotArea         3.932476\n",
       "EnclosedPorch   3.078561"
      ]
     },
     "execution_count": 46,
     "metadata": {},
     "output_type": "execute_result"
    }
   ],
   "source": [
    "from scipy.stats import norm, skew \n",
    "skewed_feats = df_train[num].apply(lambda x: skew(x.dropna())).sort_values(ascending=False)\n",
    "print(\"\\nSkew em features numericas: \\n\")\n",
    "skewness = pd.DataFrame({'Skew' :skewed_feats})\n",
    "skewness.head(10)"
   ]
  },
  {
   "cell_type": "code",
   "execution_count": 47,
   "id": "408aa171",
   "metadata": {
    "execution": {
     "iopub.execute_input": "2022-09-30T13:12:59.159468Z",
     "iopub.status.busy": "2022-09-30T13:12:59.159065Z",
     "iopub.status.idle": "2022-09-30T13:12:59.167130Z",
     "shell.execute_reply": "2022-09-30T13:12:59.165966Z"
    },
    "papermill": {
     "duration": 0.037894,
     "end_time": "2022-09-30T13:12:59.169616",
     "exception": false,
     "start_time": "2022-09-30T13:12:59.131722",
     "status": "completed"
    },
    "tags": []
   },
   "outputs": [
    {
     "name": "stdout",
     "output_type": "stream",
     "text": [
      "Há 35 dados numéricos distorcidos na transformação Box Cox\n"
     ]
    }
   ],
   "source": [
    "skewness = skewness[abs(skewness) > 0.75]\n",
    "print(\"Há {} dados numéricos distorcidos na transformação Box Cox\".format(skewness.shape[0]))"
   ]
  },
  {
   "cell_type": "markdown",
   "id": "7e0f723a",
   "metadata": {
    "papermill": {
     "duration": 0.025297,
     "end_time": "2022-09-30T13:12:59.222047",
     "exception": false,
     "start_time": "2022-09-30T13:12:59.196750",
     "status": "completed"
    },
    "tags": []
   },
   "source": [
    " Usarei a função scipy boxcox1p estabilizando feature por feature usando um for que calcula a transformação Box-Cox de 1+x."
   ]
  },
  {
   "cell_type": "code",
   "execution_count": 48,
   "id": "de3feda3",
   "metadata": {
    "execution": {
     "iopub.execute_input": "2022-09-30T13:12:59.275458Z",
     "iopub.status.busy": "2022-09-30T13:12:59.274561Z",
     "iopub.status.idle": "2022-09-30T13:12:59.301352Z",
     "shell.execute_reply": "2022-09-30T13:12:59.300316Z"
    },
    "papermill": {
     "duration": 0.056612,
     "end_time": "2022-09-30T13:12:59.304055",
     "exception": false,
     "start_time": "2022-09-30T13:12:59.247443",
     "status": "completed"
    },
    "tags": []
   },
   "outputs": [
    {
     "name": "stdout",
     "output_type": "stream",
     "text": [
      "aqui estão 35 dados numéricos distorcidos para transformação de Box Cox\n"
     ]
    }
   ],
   "source": [
    "print(\"aqui estão {} dados numéricos distorcidos para transformação de Box Cox\".format(skewness.shape[0]))\n",
    "from scipy.special import boxcox1p\n",
    "skewed_features = skewness.index\n",
    "lam = 0.15\n",
    "for feat in skewed_features:\n",
    "    df_train[feat] = boxcox1p(df_train[feat], lam)"
   ]
  },
  {
   "cell_type": "code",
   "execution_count": 49,
   "id": "8b62515d",
   "metadata": {
    "execution": {
     "iopub.execute_input": "2022-09-30T13:12:59.357819Z",
     "iopub.status.busy": "2022-09-30T13:12:59.357137Z",
     "iopub.status.idle": "2022-09-30T13:12:59.373278Z",
     "shell.execute_reply": "2022-09-30T13:12:59.372073Z"
    },
    "papermill": {
     "duration": 0.04579,
     "end_time": "2022-09-30T13:12:59.375748",
     "exception": false,
     "start_time": "2022-09-30T13:12:59.329958",
     "status": "completed"
    },
    "tags": []
   },
   "outputs": [
    {
     "name": "stdout",
     "output_type": "stream",
     "text": [
      "(1454, 93)\n"
     ]
    }
   ],
   "source": [
    "y_train=df_train['SalePrice']\n",
    "X_train = df_train.drop(columns=['SalePrice'])\n",
    "X_train = pd.get_dummies(X_train)\n",
    "print(X_train.shape)"
   ]
  },
  {
   "cell_type": "code",
   "execution_count": 50,
   "id": "2f8114cf",
   "metadata": {
    "execution": {
     "iopub.execute_input": "2022-09-30T13:12:59.428950Z",
     "iopub.status.busy": "2022-09-30T13:12:59.428334Z",
     "iopub.status.idle": "2022-09-30T13:12:59.457459Z",
     "shell.execute_reply": "2022-09-30T13:12:59.456276Z"
    },
    "papermill": {
     "duration": 0.058639,
     "end_time": "2022-09-30T13:12:59.459956",
     "exception": false,
     "start_time": "2022-09-30T13:12:59.401317",
     "status": "completed"
    },
    "tags": []
   },
   "outputs": [
    {
     "name": "stdout",
     "output_type": "stream",
     "text": [
      "\n",
      "Skew em features numericas: \n",
      "\n"
     ]
    },
    {
     "data": {
      "text/html": [
       "<div>\n",
       "<style scoped>\n",
       "    .dataframe tbody tr th:only-of-type {\n",
       "        vertical-align: middle;\n",
       "    }\n",
       "\n",
       "    .dataframe tbody tr th {\n",
       "        vertical-align: top;\n",
       "    }\n",
       "\n",
       "    .dataframe thead th {\n",
       "        text-align: right;\n",
       "    }\n",
       "</style>\n",
       "<table border=\"1\" class=\"dataframe\">\n",
       "  <thead>\n",
       "    <tr style=\"text-align: right;\">\n",
       "      <th></th>\n",
       "      <th>Skew</th>\n",
       "    </tr>\n",
       "  </thead>\n",
       "  <tbody>\n",
       "    <tr>\n",
       "      <th>GarageCars</th>\n",
       "      <td>28.780996</td>\n",
       "    </tr>\n",
       "    <tr>\n",
       "      <th>BsmtHalfBath</th>\n",
       "      <td>26.542535</td>\n",
       "    </tr>\n",
       "    <tr>\n",
       "      <th>BsmtFullBath</th>\n",
       "      <td>25.184773</td>\n",
       "    </tr>\n",
       "    <tr>\n",
       "      <th>PoolArea</th>\n",
       "      <td>20.176117</td>\n",
       "    </tr>\n",
       "    <tr>\n",
       "      <th>MiscVal</th>\n",
       "      <td>20.054543</td>\n",
       "    </tr>\n",
       "    <tr>\n",
       "      <th>LowQualFinSF</th>\n",
       "      <td>16.150628</td>\n",
       "    </tr>\n",
       "    <tr>\n",
       "      <th>3SsnPorch</th>\n",
       "      <td>12.511336</td>\n",
       "    </tr>\n",
       "    <tr>\n",
       "      <th>EnclosedPorch</th>\n",
       "      <td>4.664371</td>\n",
       "    </tr>\n",
       "    <tr>\n",
       "      <th>KitchenAbvGr</th>\n",
       "      <td>4.074860</td>\n",
       "    </tr>\n",
       "    <tr>\n",
       "      <th>BsmtFinSF2</th>\n",
       "      <td>4.038375</td>\n",
       "    </tr>\n",
       "  </tbody>\n",
       "</table>\n",
       "</div>"
      ],
      "text/plain": [
       "                    Skew\n",
       "GarageCars     28.780996\n",
       "BsmtHalfBath   26.542535\n",
       "BsmtFullBath   25.184773\n",
       "PoolArea       20.176117\n",
       "MiscVal        20.054543\n",
       "LowQualFinSF   16.150628\n",
       "3SsnPorch      12.511336\n",
       "EnclosedPorch   4.664371\n",
       "KitchenAbvGr    4.074860\n",
       "BsmtFinSF2      4.038375"
      ]
     },
     "execution_count": 50,
     "metadata": {},
     "output_type": "execute_result"
    }
   ],
   "source": [
    "from scipy.stats import norm, skew \n",
    "skewed_feats = df_test[num].apply(lambda x: skew(x.dropna())).sort_values(ascending=False)\n",
    "print(\"\\nSkew em features numericas: \\n\")\n",
    "skewness = pd.DataFrame({'Skew' :skewed_feats})\n",
    "skewness.head(10)"
   ]
  },
  {
   "cell_type": "code",
   "execution_count": 51,
   "id": "0aa0a488",
   "metadata": {
    "execution": {
     "iopub.execute_input": "2022-09-30T13:12:59.513576Z",
     "iopub.status.busy": "2022-09-30T13:12:59.513173Z",
     "iopub.status.idle": "2022-09-30T13:12:59.521693Z",
     "shell.execute_reply": "2022-09-30T13:12:59.520486Z"
    },
    "papermill": {
     "duration": 0.038142,
     "end_time": "2022-09-30T13:12:59.524025",
     "exception": false,
     "start_time": "2022-09-30T13:12:59.485883",
     "status": "completed"
    },
    "tags": []
   },
   "outputs": [
    {
     "name": "stdout",
     "output_type": "stream",
     "text": [
      "Há 35 dados numéricos distorcidos na transformação Box Cox\n"
     ]
    }
   ],
   "source": [
    "skewness = skewness[abs(skewness) > 0.75]\n",
    "print(\"Há {} dados numéricos distorcidos na transformação Box Cox\".format(skewness.shape[0]))"
   ]
  },
  {
   "cell_type": "code",
   "execution_count": 52,
   "id": "c9e87694",
   "metadata": {
    "execution": {
     "iopub.execute_input": "2022-09-30T13:12:59.579120Z",
     "iopub.status.busy": "2022-09-30T13:12:59.578188Z",
     "iopub.status.idle": "2022-09-30T13:12:59.603368Z",
     "shell.execute_reply": "2022-09-30T13:12:59.601596Z"
    },
    "papermill": {
     "duration": 0.055844,
     "end_time": "2022-09-30T13:12:59.606074",
     "exception": false,
     "start_time": "2022-09-30T13:12:59.550230",
     "status": "completed"
    },
    "tags": []
   },
   "outputs": [
    {
     "name": "stdout",
     "output_type": "stream",
     "text": [
      "aqui estão 35 dados numéricos distorcidos para transformação de Box Cox\n"
     ]
    }
   ],
   "source": [
    "skewness = skewness[abs(skewness) > 0.75]\n",
    "print(\"aqui estão {} dados numéricos distorcidos para transformação de Box Cox\".format(skewness.shape[0]))\n",
    "from scipy.special import boxcox1p\n",
    "skewed_features = skewness.index\n",
    "lam = 0.15\n",
    "for feat in skewed_features:\n",
    "    df_test[feat] = boxcox1p(df_test[feat], lam)"
   ]
  },
  {
   "cell_type": "code",
   "execution_count": 53,
   "id": "3c11e0a8",
   "metadata": {
    "execution": {
     "iopub.execute_input": "2022-09-30T13:12:59.660824Z",
     "iopub.status.busy": "2022-09-30T13:12:59.660391Z",
     "iopub.status.idle": "2022-09-30T13:12:59.675652Z",
     "shell.execute_reply": "2022-09-30T13:12:59.674556Z"
    },
    "papermill": {
     "duration": 0.045646,
     "end_time": "2022-09-30T13:12:59.678153",
     "exception": false,
     "start_time": "2022-09-30T13:12:59.632507",
     "status": "completed"
    },
    "tags": []
   },
   "outputs": [
    {
     "name": "stdout",
     "output_type": "stream",
     "text": [
      "(1459, 93)\n"
     ]
    }
   ],
   "source": [
    "X_test = df_test\n",
    "X_test = pd.get_dummies(X_test)\n",
    "print(X_test.shape)"
   ]
  },
  {
   "cell_type": "markdown",
   "id": "cd4b503b",
   "metadata": {
    "papermill": {
     "duration": 0.026383,
     "end_time": "2022-09-30T13:12:59.730806",
     "exception": false,
     "start_time": "2022-09-30T13:12:59.704423",
     "status": "completed"
    },
    "tags": []
   },
   "source": [
    "# O que é, e por que escolhi usar o XGBoost;\n",
    "> **O que é?**\n",
    "O XGBoost é um algoritmo de aprendizado de máquina, baseado em árvore de decisão e que utiliza uma estrutura de Gradient boosting. Basicamente, o XGBoost aprimora a estrutura básica do GBM por meio da otimização de sistemas e aprimoramentos algorítmicos. Vale citar que desde a sua introdução, este algoritmo tem sido o mais vitorioso no Kaggle, além disso, também tem sido utilizado em várias aplicações de ponta na indústria."
   ]
  },
  {
   "cell_type": "markdown",
   "id": "5b29c46f",
   "metadata": {
    "papermill": {
     "duration": 0.02589,
     "end_time": "2022-09-30T13:12:59.783073",
     "exception": false,
     "start_time": "2022-09-30T13:12:59.757183",
     "status": "completed"
    },
    "tags": []
   },
   "source": [
    "# \n",
    "> **Por que ele?** Escolhi trabalhar com o XGBoost porque estou trabalhando com dados estruturados/tabulares e os algoritmos baseados em árvore de decisão são considerados os melhores para o meu caso, pois a utilização de um algoritmo depende de diversos fatores, como custo computacional, prazo de implementação e acurácia."
   ]
  },
  {
   "cell_type": "code",
   "execution_count": 54,
   "id": "979c17cf",
   "metadata": {
    "execution": {
     "iopub.execute_input": "2022-09-30T13:12:59.838773Z",
     "iopub.status.busy": "2022-09-30T13:12:59.837294Z",
     "iopub.status.idle": "2022-09-30T13:13:06.835160Z",
     "shell.execute_reply": "2022-09-30T13:13:06.834132Z"
    },
    "papermill": {
     "duration": 7.028303,
     "end_time": "2022-09-30T13:13:06.837859",
     "exception": false,
     "start_time": "2022-09-30T13:12:59.809556",
     "status": "completed"
    },
    "tags": []
   },
   "outputs": [
    {
     "data": {
      "text/plain": [
       "XGBRegressor(base_score=0.5, booster='gbtree', callbacks=None,\n",
       "             colsample_bylevel=1, colsample_bynode=1, colsample_bytree=1,\n",
       "             early_stopping_rounds=None, enable_categorical=False,\n",
       "             eval_metric=None, gamma=0, gpu_id=-1, grow_policy='depthwise',\n",
       "             importance_type=None, interaction_constraints='',\n",
       "             learning_rate=0.05, max_bin=256, max_cat_to_onehot=4,\n",
       "             max_delta_step=0, max_depth=6, max_leaves=0, min_child_weight=1,\n",
       "             missing=nan, monotone_constraints='()', n_estimators=1000,\n",
       "             n_jobs=0, num_parallel_tree=1, predictor='auto', random_state=0,\n",
       "             reg_alpha=0, reg_lambda=1, ...)"
      ]
     },
     "execution_count": 54,
     "metadata": {},
     "output_type": "execute_result"
    }
   ],
   "source": [
    "from xgboost import XGBRegressor\n",
    "xgb_clf = XGBRegressor(n_estimators=1000, learning_rate=0.05)\n",
    "xgb_clf.fit(X_train, y_train)"
   ]
  },
  {
   "cell_type": "markdown",
   "id": "94d69d7e",
   "metadata": {
    "papermill": {
     "duration": 0.025689,
     "end_time": "2022-09-30T13:13:06.890164",
     "exception": false,
     "start_time": "2022-09-30T13:13:06.864475",
     "status": "completed"
    },
    "tags": []
   },
   "source": [
    "# Validação cruzada ou em inglês cross validation;\n",
    "Utilizei o **cross_val_score()** porque se eu alterar a posição dos elementos, tenho um conjunto com dados completamente diferentes. Isso ocorre pois prendemos o algoritmo na sequência que os dados foram apresentados, isto é, a posição de cada elemento importa para o resultado do algoritmo. É por isso que quando altero o tamanho de treino o meu algoritmo muda o resultado também.\n",
    "O que **cross_val_score()** faz é separar uma parte dos dados para treino e teste criando várias combinações diferentes. Dessa forma cada combinação me da um resultado e, com esse resultado, vejo o quão bom foi o meu algoritmo.\n",
    "Dessa maneira, podemos fazer k combinações cruzando o meu conjunto de dados. Cada um dos cruzamentos, nos retorna um valor que é a taxa de acerto daquela combinação.\n",
    "Assim validamos meus dados cruzando várias combinações possíveis.\n",
    "\n",
    "\n"
   ]
  },
  {
   "cell_type": "code",
   "execution_count": 55,
   "id": "1bf90104",
   "metadata": {
    "execution": {
     "iopub.execute_input": "2022-09-30T13:13:06.944664Z",
     "iopub.status.busy": "2022-09-30T13:13:06.944247Z",
     "iopub.status.idle": "2022-09-30T13:14:13.257916Z",
     "shell.execute_reply": "2022-09-30T13:14:13.256438Z"
    },
    "papermill": {
     "duration": 66.36267,
     "end_time": "2022-09-30T13:14:13.278906",
     "exception": false,
     "start_time": "2022-09-30T13:13:06.916236",
     "status": "completed"
    },
    "tags": []
   },
   "outputs": [
    {
     "name": "stdout",
     "output_type": "stream",
     "text": [
      "0.9105472661601672\n"
     ]
    }
   ],
   "source": [
    "from sklearn.model_selection import cross_val_score\n",
    "xgb_clf_cv = cross_val_score(xgb_clf,X_train, y_train, cv=10, )\n",
    "print(xgb_clf_cv.mean()) "
   ]
  },
  {
   "cell_type": "code",
   "execution_count": 56,
   "id": "39f2fc06",
   "metadata": {
    "execution": {
     "iopub.execute_input": "2022-09-30T13:14:13.335706Z",
     "iopub.status.busy": "2022-09-30T13:14:13.335245Z",
     "iopub.status.idle": "2022-09-30T13:14:20.035220Z",
     "shell.execute_reply": "2022-09-30T13:14:20.034029Z"
    },
    "papermill": {
     "duration": 6.731393,
     "end_time": "2022-09-30T13:14:20.037759",
     "exception": false,
     "start_time": "2022-09-30T13:14:13.306366",
     "status": "completed"
    },
    "tags": []
   },
   "outputs": [
    {
     "data": {
      "text/plain": [
       "XGBRegressor(base_score=0.5, booster='gbtree', callbacks=None,\n",
       "             colsample_bylevel=1, colsample_bynode=1, colsample_bytree=1,\n",
       "             early_stopping_rounds=None, enable_categorical=False,\n",
       "             eval_metric=None, gamma=0, gpu_id=-1, grow_policy='depthwise',\n",
       "             importance_type=None, interaction_constraints='',\n",
       "             learning_rate=0.05, max_bin=256, max_cat_to_onehot=4,\n",
       "             max_delta_step=0, max_depth=6, max_leaves=0, min_child_weight=1,\n",
       "             missing=nan, monotone_constraints='()', n_estimators=1000,\n",
       "             n_jobs=0, num_parallel_tree=1, predictor='auto', random_state=0,\n",
       "             reg_alpha=0, reg_lambda=1, ...)"
      ]
     },
     "execution_count": 56,
     "metadata": {},
     "output_type": "execute_result"
    }
   ],
   "source": [
    "xgb_clf = XGBRegressor(n_estimators=1000, learning_rate=0.05)\n",
    "xgb_clf.fit(X_train, y_train)"
   ]
  },
  {
   "cell_type": "code",
   "execution_count": 57,
   "id": "5237d61b",
   "metadata": {
    "execution": {
     "iopub.execute_input": "2022-09-30T13:14:20.093741Z",
     "iopub.status.busy": "2022-09-30T13:14:20.092952Z",
     "iopub.status.idle": "2022-09-30T13:14:20.128572Z",
     "shell.execute_reply": "2022-09-30T13:14:20.127530Z"
    },
    "papermill": {
     "duration": 0.066498,
     "end_time": "2022-09-30T13:14:20.131244",
     "exception": false,
     "start_time": "2022-09-30T13:14:20.064746",
     "status": "completed"
    },
    "tags": []
   },
   "outputs": [
    {
     "data": {
      "text/plain": [
       "array([127045.51, 169444.83, 185371.6 , ..., 165526.58, 105832.27,\n",
       "       205188.34], dtype=float32)"
      ]
     },
     "execution_count": 57,
     "metadata": {},
     "output_type": "execute_result"
    }
   ],
   "source": [
    "from sklearn.metrics import classification_report\n",
    "xgb_predictions_test = xgb_clf.predict(X_test)\n",
    "xgb_predictions_test"
   ]
  },
  {
   "cell_type": "code",
   "execution_count": 58,
   "id": "2b1da3d6",
   "metadata": {
    "execution": {
     "iopub.execute_input": "2022-09-30T13:14:20.188141Z",
     "iopub.status.busy": "2022-09-30T13:14:20.187741Z",
     "iopub.status.idle": "2022-09-30T13:14:20.194704Z",
     "shell.execute_reply": "2022-09-30T13:14:20.193545Z"
    },
    "papermill": {
     "duration": 0.037396,
     "end_time": "2022-09-30T13:14:20.197280",
     "exception": false,
     "start_time": "2022-09-30T13:14:20.159884",
     "status": "completed"
    },
    "tags": []
   },
   "outputs": [
    {
     "data": {
      "text/plain": [
       "(1459,)"
      ]
     },
     "execution_count": 58,
     "metadata": {},
     "output_type": "execute_result"
    }
   ],
   "source": [
    "xgb_predictions_test.shape"
   ]
  },
  {
   "cell_type": "code",
   "execution_count": 59,
   "id": "59c1f025",
   "metadata": {
    "execution": {
     "iopub.execute_input": "2022-09-30T13:14:20.252902Z",
     "iopub.status.busy": "2022-09-30T13:14:20.252447Z",
     "iopub.status.idle": "2022-09-30T13:14:20.264507Z",
     "shell.execute_reply": "2022-09-30T13:14:20.263390Z"
    },
    "papermill": {
     "duration": 0.042856,
     "end_time": "2022-09-30T13:14:20.267011",
     "exception": false,
     "start_time": "2022-09-30T13:14:20.224155",
     "status": "completed"
    },
    "tags": []
   },
   "outputs": [],
   "source": [
    "submission = pd.DataFrame({\n",
    "        \"Id\": data_test[\"Id\"],\n",
    "        \"SalePrice\": xgb_predictions_test\n",
    "    })\n",
    "\n",
    "submission.to_csv(\"kaggleXGB_HousePrices.csv\", index=False)"
   ]
  },
  {
   "cell_type": "markdown",
   "id": "968dd4ae",
   "metadata": {
    "papermill": {
     "duration": 0.026607,
     "end_time": "2022-09-30T13:14:20.320864",
     "exception": false,
     "start_time": "2022-09-30T13:14:20.294257",
     "status": "completed"
    },
    "tags": []
   },
   "source": [
    "# Motivo do erro maior na predição;\n",
    "Overfitting, ao inves de aprender um modelo quadratico que tem um baixo erro em relação ao geral meu modelo decorou os dados da competição."
   ]
  },
  {
   "cell_type": "markdown",
   "id": "91048dfd",
   "metadata": {
    "papermill": {
     "duration": 0.026527,
     "end_time": "2022-09-30T13:14:20.374374",
     "exception": false,
     "start_time": "2022-09-30T13:14:20.347847",
     "status": "completed"
    },
    "tags": []
   },
   "source": [
    ">  ****O que é Overfitting?****\n",
    "A variância é um erro de sensibilidade para pequenas flutuações no conjunto de treinamento. Alta variância pode fazer com que um algoritmo modele o ruído aleatório nos dados de treinamento, em vez das saídas pretendidas. A este erro dá-se o nome de overfitting.\n",
    "Um cenário de overfitting ocorre quando, nos dados de treino, o modelo tem um desempenho excelente, porém quando utilizamos os dados de teste o resultado é ruim.\n",
    "Podemos entender que, neste caso, o modelo aprendeu tão bem as relações existentes no treino, que acabou apenas decorando o que deveria ser feito, e ao receber as informações das variáveis preditoras nos dados de teste, o modelo tenta aplicar as mesmas regras decoradas, porém com dados diferentes esta regra não tem validade, e o desempenho é afetado. É comum ouvirmos que neste cenário o modelo treinado não tem capacidade de generalização."
   ]
  },
  {
   "cell_type": "markdown",
   "id": "ad094443",
   "metadata": {
    "papermill": {
     "duration": 0.039122,
     "end_time": "2022-09-30T13:14:20.440469",
     "exception": false,
     "start_time": "2022-09-30T13:14:20.401347",
     "status": "completed"
    },
    "tags": []
   },
   "source": [
    "# Possiveis metodos para melhorar a submissão;\n",
    "Tratar melhor meus outliers;\n",
    "> Defini padrões para os meus outliers, mas acho que eu poderia explorar esses dados de maneira metodológicamente mais rigorosa como, por exemplo, usando Critério de Chauvenet ou Teste de Grubbs.\n",
    "**Motivo:** Posso errar ou deixar passar otliers, imagine uma casa muito grande, com uma área muito grande também, em uma localização ruim, por causa da sua localização, ela pode ser barata e fugir do que o gráfico de releção mostrou, quanto maior a área mais cara é a casa, e isso pode ser aplicado diferentes situações."
   ]
  },
  {
   "cell_type": "markdown",
   "id": "643adcd3",
   "metadata": {
    "papermill": {
     "duration": 0.028971,
     "end_time": "2022-09-30T13:14:20.504686",
     "exception": false,
     "start_time": "2022-09-30T13:14:20.475715",
     "status": "completed"
    },
    "tags": []
   },
   "source": [
    " Critério de Chauvenet;\n",
    "> O teste Chauvenet é utilizado para estabelecer se existe algum valor\n",
    "aberrante presente na amostra estudada, levando-se em consideração que estes\n",
    "dados amostrais são referentes a medições que seguem uma distribuição normal. Equacões são feitas sucessivamente, 4 equações exatamente, e esse procedimento deve ser realizado até que todos os valores considerados aberrantes sejam eliminados, ou seja, uma medida pode ser excluída se a probabilidade de se obter o desvio específico da média for inferior a 1 / (2n)"
   ]
  },
  {
   "cell_type": "markdown",
   "id": "ab99e6b0",
   "metadata": {
    "papermill": {
     "duration": 0.027713,
     "end_time": "2022-09-30T13:14:20.565233",
     "exception": false,
     "start_time": "2022-09-30T13:14:20.537520",
     "status": "completed"
    },
    "tags": []
   },
   "source": [
    "Teste de Grubbs;\n",
    "> O teste de Grubbs é primeiramente realizado para verificar a existência de\n",
    "um valor aberrante em cada extremidade do conjunto de dados. Se nesta primeira\n",
    "análise, um dos dois valores for considerado aberrante, ele é rejeitado, retirado do\n",
    "conjunto e um novo teste, verificando a existência de um valor aberrante em cada\n",
    "extremidade do conjunto, é realizado e assim sucessivamente; caso contrário, se\n",
    "nesta primeira análise, ambos os valores forem aceitos como não aberrantes, o\n",
    "teste é encerrado e utilizamos o conjunto de dados remanescentes para análise. Se\n",
    "na segunda análise os dois resultados de uma das extremidades forem\n",
    "considerados como aberrantes, eles devem ser rejeitados, retirados do conjunto e um\n",
    "novo teste verificando a existência de dois valores aberrantes em cada extremidade do conjunto é realizado e assim sucessivamente, até que ambos os valores sejam aceitos como não aberrantes."
   ]
  },
  {
   "cell_type": "markdown",
   "id": "34ba2735",
   "metadata": {
    "papermill": {
     "duration": 0.026413,
     "end_time": "2022-09-30T13:14:20.618343",
     "exception": false,
     "start_time": "2022-09-30T13:14:20.591930",
     "status": "completed"
    },
    "tags": []
   },
   "source": [
    "Model tuning;\n",
    "> Resumidamente, os algoritmos de machine learning recebem dois tipos de entrada:\n",
    "dados que são utilizados para treinar o modelo e Hiper parâmetros que são responsáveis pela configuração lógica do algoritmo que está por trás do modelo.\n",
    "> Gostaria de ter criado uma etapa para refinar meu modelo, ficar alternando valores de padrão manualmente ou usando ****algoritmos de tuning****: um algoritmo pode testar diferentes cenários para mim, existem duas classes de algoritmos de tuning, o ****Grid search:**** define exatamente quais são os valores dos parâmetros que serão testados.\n",
    "****Random search:**** valores aleatórios de parâmetros são testados. **Motivo:** quando fiz o plot do meu fit foi mostrado todos os valores que meu modelo usou, como 0.5 para um score, e cada uma dessas coisas tem um significado, por exemplo, quando usei o máximo de arvores 6, talvez se eu usasse 7 meu erro diminuiria. Acredito que poderia explorar esses parâmetros um pouco melhor em uma etapa de validação de maneira que fizessem sentido para o meu contexto."
   ]
  },
  {
   "cell_type": "markdown",
   "id": "829c1e82",
   "metadata": {
    "papermill": {
     "duration": 0.026495,
     "end_time": "2022-09-30T13:14:20.671656",
     "exception": false,
     "start_time": "2022-09-30T13:14:20.645161",
     "status": "completed"
    },
    "tags": []
   },
   "source": [
    "****Por que não fiz?****\n",
    "São metodos trabalhosos, pelo menos para mim que comecei agora com IA, e acredito que os modelos devem se ajustar a situações de tempo, experiência, taxa de erro que busco e etc."
   ]
  }
 ],
 "metadata": {
  "kernelspec": {
   "display_name": "Python 3",
   "language": "python",
   "name": "python3"
  },
  "language_info": {
   "codemirror_mode": {
    "name": "ipython",
    "version": 3
   },
   "file_extension": ".py",
   "mimetype": "text/x-python",
   "name": "python",
   "nbconvert_exporter": "python",
   "pygments_lexer": "ipython3",
   "version": "3.7.12"
  },
  "papermill": {
   "default_parameters": {},
   "duration": 99.700303,
   "end_time": "2022-09-30T13:14:21.523738",
   "environment_variables": {},
   "exception": null,
   "input_path": "__notebook__.ipynb",
   "output_path": "__notebook__.ipynb",
   "parameters": {},
   "start_time": "2022-09-30T13:12:41.823435",
   "version": "2.3.4"
  }
 },
 "nbformat": 4,
 "nbformat_minor": 5
}
